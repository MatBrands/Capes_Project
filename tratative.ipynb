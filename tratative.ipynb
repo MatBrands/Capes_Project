{
 "cells": [
  {
   "cell_type": "code",
   "execution_count": 1,
   "metadata": {},
   "outputs": [],
   "source": [
    "import pandas as pd\n",
    "import numpy as np"
   ]
  },
  {
   "cell_type": "code",
   "execution_count": 2,
   "metadata": {},
   "outputs": [],
   "source": [
    "year = 2013\n",
    "df = pd.read_csv(f'./Raw/{year}.csv', sep=';', encoding ='latin')\n",
    "df_processed = df[['AN_BASE', 'NM_PROGRAMA', 'NM_PRODUCAO', 'NM_LINHA_PESQUISA', 'NM_PROJETO', \n",
    "    'DS_RESUMO', 'DS_PALAVRA_CHAVE', 'DS_ABSTRACT', 'DS_KEYWORD', 'NM_GRANDE_AREA_CONHECIMENTO', 'NM_SUBAREA_CONHECIMENTO', 'NM_AREA_AVALIACAO']].copy()"
   ]
  },
  {
   "cell_type": "code",
   "execution_count": null,
   "metadata": {},
   "outputs": [],
   "source": [
    "# df_processed.head()"
   ]
  },
  {
   "cell_type": "code",
   "execution_count": 4,
   "metadata": {},
   "outputs": [],
   "source": [
    "df_processed.columns = df_processed.columns.str.slice(3).str.lower()\n",
    "df_processed.rename(columns={\n",
    "    'base': 'ano'\n",
    "}, inplace=True)\n",
    "\n",
    "for item in list(df_processed.iloc[:, 1:].columns):\n",
    "    df_processed[f'{item}'] = df_processed[f'{item}'].str.lower()"
   ]
  },
  {
   "cell_type": "code",
   "execution_count": 5,
   "metadata": {},
   "outputs": [],
   "source": [
    "# df_processed.dropna(subset=['resumo', 'palavra_chave', 'abstract', 'keyword', 'grande_area_conhecimento'], inplace=True)\n",
    "# df_processed.drop(index=df_processed[\n",
    "#     df_processed.resumo.str.contains(\"não informado\") | df_processed.palavra_chave.str.contains(\"não informado\") | \n",
    "#     df_processed.abstract.str.contains(\"não informado\") | df_processed.keyword.str.contains(\"não informado\") | \n",
    "#     df_processed.grande_area_conhecimento.str.contains(\"não informado\")\n",
    "# ].index, inplace=True)\n",
    "# df_processed.reset_index(drop=True, inplace=True)"
   ]
  },
  {
   "cell_type": "code",
   "execution_count": 6,
   "metadata": {},
   "outputs": [],
   "source": [
    "# df_processed.fillna({\n",
    "#     'programa': 'não informado',\n",
    "#     'producao': 'não informado',\n",
    "#     'linha_pesquisa': 'não informado',\n",
    "#     'projeto': 'não informado',\n",
    "#     'resumo': 'não informado',\n",
    "#     'palavra_chave': 'não informado',\n",
    "#     'abstract': 'não informado',\n",
    "#     'keyword': 'não informado',\n",
    "#     'grande_area_conhecimento': 'não informado',\n",
    "#     'subarea_conhecimento': 'não se aplica',\n",
    "#     'area_avaliacao': 'não informado'\n",
    "# }, inplace=True)"
   ]
  },
  {
   "cell_type": "code",
   "execution_count": 7,
   "metadata": {},
   "outputs": [],
   "source": [
    "for item in ['palavra_chave', 'keyword']:\n",
    "    df_processed[f'{item}'].replace(to_replace ='([0-9][. ])', value = ',', regex = True, inplace=True)\n",
    "    df_processed[f'{item}'].replace(to_replace ='([;])+', value = ',', regex = True, inplace=True)\n",
    "    df_processed[f'{item}'].replace(to_replace ='([.])+', value = ',', regex = True, inplace=True)\n",
    "    df_processed[f'{item}'].replace(to_replace ='(  )+', value = ' ', regex = True, inplace=True)\n",
    "    df_processed[f'{item}'] = df_processed[f'{item}'].str.lstrip(', ')"
   ]
  },
  {
   "cell_type": "code",
   "execution_count": 8,
   "metadata": {},
   "outputs": [],
   "source": [
    "# df_processed[(df_processed.palavra_chave == df_processed.keyword) | (df_processed.resumo == df_processed.abstract)]"
   ]
  },
  {
   "cell_type": "code",
   "execution_count": 9,
   "metadata": {},
   "outputs": [],
   "source": [
    "# df_processed.head()"
   ]
  }
 ],
 "metadata": {
  "kernelspec": {
   "display_name": "Python 3.10.6 ('cluster_capes-venv')",
   "language": "python",
   "name": "python3"
  },
  "language_info": {
   "codemirror_mode": {
    "name": "ipython",
    "version": 3
   },
   "file_extension": ".py",
   "mimetype": "text/x-python",
   "name": "python",
   "nbconvert_exporter": "python",
   "pygments_lexer": "ipython3",
   "version": "3.10.6"
  },
  "orig_nbformat": 4,
  "vscode": {
   "interpreter": {
    "hash": "3878f07e5cfa7634c84aef1532f744caa99a876e301e713bc35e644c4ba4208a"
   }
  }
 },
 "nbformat": 4,
 "nbformat_minor": 2
}
