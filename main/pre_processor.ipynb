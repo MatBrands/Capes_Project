{
 "cells": [
  {
   "cell_type": "code",
   "execution_count": 50,
   "metadata": {},
   "outputs": [],
   "source": [
    "import pandas as pd\n",
    "import numpy as np\n",
    "import difflib\n",
    "import os\n",
    "import multiprocessing\n",
    "import nltk\n",
    "# nltk.download('stopwords')\n",
    "from nltk.corpus import stopwords\n",
    "from nltk.tokenize import wordpunct_tokenize\n",
    "from nltk.stem.lancaster import LancasterStemmer"
   ]
  },
  {
   "cell_type": "code",
   "execution_count": 25,
   "metadata": {},
   "outputs": [],
   "source": [
    "year = 2013\n",
    "df = pd.read_csv(f'./Raw/{year}.csv', sep=';', encoding ='latin')\n",
    "df = df[['DS_RESUMO', 'DS_PALAVRA_CHAVE', 'NM_AREA_AVALIACAO']]"
   ]
  },
  {
   "cell_type": "code",
   "execution_count": 26,
   "metadata": {},
   "outputs": [],
   "source": [
    "df.columns = df.columns.str.slice(3).str.lower()\n",
    "df.rename(columns={\n",
    "    'base': 'ano'\n",
    "}, inplace=True)\n",
    "\n",
    "for item in list(df.iloc[:, 0:].columns):\n",
    "    df[f'{item}'] = df[f'{item}'].str.lower()"
   ]
  },
  {
   "cell_type": "code",
   "execution_count": 27,
   "metadata": {},
   "outputs": [],
   "source": [
    "def rename_areas(text: str) -> str:\n",
    "    if text in ['administração pública e de empresas, ciências contábeis e turismo', 'administração, ciências contábeis e turismo']:\n",
    "        return 'administração pública e de empresas, ciências contábeis e turismo'\n",
    "    elif text in ['arquitetura e urbanismo', 'arquitetura, urbanismo e design']:\n",
    "        return 'arquitetura, urbanismo e design'\n",
    "    elif text in 'filosofia/teologia:subcomissão filosofia':\n",
    "        return 'filosofia'\n",
    "    elif text in ['filosofia/teologia:subcomissão teologia', 'teologia']:\n",
    "        return 'ciências da religião e teologia'\n",
    "    elif text in 'letras / linguística':\n",
    "        return 'linguística e literatura'\n",
    "    elif text in 'artes / música':\n",
    "        return 'artes'\n",
    "    elif text in 'ciências sociais aplicadas i':\n",
    "        return 'serviço social'\n",
    "    else:\n",
    "        return text"
   ]
  },
  {
   "cell_type": "code",
   "execution_count": 28,
   "metadata": {},
   "outputs": [],
   "source": [
    "df.area_avaliacao = df.area_avaliacao.apply(rename_areas)\n",
    "del rename_areas"
   ]
  },
  {
   "cell_type": "code",
   "execution_count": 29,
   "metadata": {},
   "outputs": [],
   "source": [
    "colegios_dict = {\n",
    "    'ciências da vida': {\n",
    "        'ciências agrárias': ['ciência de alimentos', 'ciências agrárias i', 'medicina veterinária', 'zootecnia / recursos pesqueiros'],\n",
    "        'ciências biológicas': ['biodiversidade', 'ciências biológicas i', 'ciências biológicas ii', 'ciências biológicas iii'],\n",
    "        'ciências da saúde': ['educação física', 'enfermagem', 'farmácia', 'medicina i', 'medicina ii', 'medicina iii', 'nutrição', 'odontologia', 'saúde coletiva']\n",
    "    },\n",
    "    'humanidades': {\n",
    "        'ciências humanas': ['antropologia / arqueologia', 'ciência política e relações internacionais', 'ciências da religião e teologia', 'educação', 'filosofia', 'geografia', 'história', 'psicologia', 'sociologia'],\n",
    "        'ciências sociais aplicadas': ['administração pública e de empresas, ciências contábeis e turismo', 'arquitetura, urbanismo e design', 'comunicação e informação', 'direito', 'economia', 'planejamento urbano e regional / demografia', 'serviço social'],\n",
    "        'linguística, letras e artes': ['artes', 'linguística e literatura']\n",
    "    },\n",
    "    'ciências exatas, tecnológicas e multidisciplinar': {\n",
    "        'ciências exatas e da terra': ['astronomia / física', 'ciência da computação', 'geociências', 'matemática / probabilidade e estatística', 'química'],\n",
    "        'engenharias': ['engenharias i', 'engenharias ii', 'engenharias iii', 'engenharias iv'],\n",
    "        'multidisciplinar': ['biotecnologia', 'ciências ambientais', 'ensino', 'interdisciplinar', 'materiais']\n",
    "    }\n",
    "}"
   ]
  },
  {
   "cell_type": "code",
   "execution_count": 30,
   "metadata": {},
   "outputs": [],
   "source": [
    "df['colegios'] = ''\n",
    "df['areas'] = ''\n",
    "df.rename(columns={'area_avaliacao': 'subareas'}, inplace=True)\n",
    "\n",
    "for colegios, areas in colegios_dict.items():\n",
    "    for areas, subareas in areas.items():\n",
    "        df.loc[df.subareas.isin(subareas), 'colegios'] = colegios\n",
    "        df.loc[df.subareas.isin(subareas), 'areas'] = areas\n",
    "        \n",
    "df = df[['resumo', 'palavra_chave', 'colegios', 'areas', 'subareas']]\n",
    "del colegios_dict"
   ]
  },
  {
   "cell_type": "code",
   "execution_count": 31,
   "metadata": {},
   "outputs": [],
   "source": [
    "df.palavra_chave.replace(to_replace = r'1[.]', value = ';', regex = True, inplace=True)\n",
    "df.palavra_chave.replace(to_replace = r' \\d[.]', value = ';', regex = True, inplace=True)\n",
    "df.palavra_chave.replace(to_replace = r'(\\S{2,})(?:\\.)', value = '\\\\1;', regex=True, inplace=True)\n",
    "df.palavra_chave.replace(to_replace = r'\\b(pt|en)\\b', value = ';', regex = True, inplace=True)\n",
    "df.palavra_chave.replace(to_replace = r' ,|, | [,] | /|/ | [/] ', value = ';', regex = True, inplace=True)\n",
    "df.palavra_chave.replace(to_replace = r' [.] |\\(\\d\\)', value = ';', regex = True, inplace=True)\n",
    "df.palavra_chave.replace(to_replace = r' \\x96 |\\x93', value = ';', regex = True, inplace=True)\n",
    "df.palavra_chave.replace(to_replace = r'[^a-z0-9\\s\\x80-\\xff,.:;?!-]', value = '', regex = True, inplace=True)\n",
    "df.palavra_chave.replace(to_replace = r' - |; | ;|; ;', value = ';', regex = True, inplace=True)\n",
    "df.palavra_chave.replace(to_replace = r';{2,}', value = ';', regex = True, inplace=True)\n",
    "df.palavra_chave.replace(to_replace= r'[\\W_]+$|^[;]+', value='', regex=True, inplace=True)\n",
    "df.palavra_chave.replace(to_replace = r'palavras-chave\\S', value = '', regex = True, inplace=True)\n",
    "df.palavra_chave.replace(to_replace = r'^\\s+|\\s+$|\\x80', value = '', regex = True, inplace=True)"
   ]
  },
  {
   "cell_type": "code",
   "execution_count": 32,
   "metadata": {},
   "outputs": [],
   "source": [
    "df.resumo.replace(to_replace= r'[^a-zA-Z0-9\\s]+', value='', regex=True, inplace=True)"
   ]
  },
  {
   "cell_type": "code",
   "execution_count": 33,
   "metadata": {},
   "outputs": [],
   "source": [
    "def remove_stopwords(text: str) -> str:\n",
    "    stop_words = set(stopwords.words('portuguese'))\n",
    "    new_text = [item for item in wordpunct_tokenize(text) if item not in stop_words]\n",
    "    return \" \".join(new_text)"
   ]
  },
  {
   "cell_type": "code",
   "execution_count": 35,
   "metadata": {},
   "outputs": [],
   "source": [
    "def lc_stem(text: str) -> str:\n",
    "    stemmer = LancasterStemmer()\n",
    "    words = [stemmer.stem(word) for word in wordpunct_tokenize(text)]\n",
    "    return \" \".join(words)"
   ]
  },
  {
   "cell_type": "code",
   "execution_count": 34,
   "metadata": {},
   "outputs": [],
   "source": [
    "df.resumo, df.palavra_chave = df.resumo.apply(remove_stopwords), df.palavra_chave.apply(remove_stopwords)\n",
    "df.resumo, df.palavra_chave = df.resumo.apply(lc_stem), df.palavra_chave.apply(lc_stem)\n",
    "df.palavra_chave.replace(to_replace = r' ; ', value = ';', regex = True, inplace=True)\n",
    "del remove_stopwords, lc_stem"
   ]
  },
  {
   "cell_type": "code",
   "execution_count": 37,
   "metadata": {},
   "outputs": [],
   "source": [
    "key_words = df.palavra_chave.copy()\n",
    "key_words = list(set(';'.join(key_words).split(';')))\n",
    "key_words = [item for item in key_words if len(item) > 1]\n",
    "\n",
    "for i in range (len(key_words)):\n",
    "    key_words[i] = key_words[i].strip()\n",
    "    \n",
    "key_words = [item for item in key_words if len(item) < 80]\n",
    "key_words = list(set(key_words))"
   ]
  },
  {
   "cell_type": "code",
   "execution_count": 38,
   "metadata": {},
   "outputs": [],
   "source": [
    "def calculate_similarity_or_pertency(sentence: str, text: str) -> str:\n",
    "    if sentence in text:\n",
    "        return True\n",
    "    similaridade = difflib.SequenceMatcher(None, sentence, text).ratio()\n",
    "    porcentagem = int(similaridade * 100)\n",
    "    if porcentagem > 75:\n",
    "        return True\n",
    "    \n",
    "    return False"
   ]
  },
  {
   "attachments": {},
   "cell_type": "markdown",
   "metadata": {},
   "source": [
    "- 50 palavras_chave = 2m 42.3s\n",
    "- 500 palavras_chave = 12m 24.6s\n",
    "- 5000 palavras_chave = 126m 2.3s\n",
    "- 111818 palavras_chave = ?"
   ]
  },
  {
   "cell_type": "code",
   "execution_count": 45,
   "metadata": {},
   "outputs": [],
   "source": [
    "def process_character(character):\n",
    "    corte = df[\n",
    "        df.palavra_chave.apply(\n",
    "            lambda x: calculate_similarity_or_pertency(character, x)\n",
    "        ) \n",
    "        |\n",
    "        df.resumo.apply(\n",
    "            lambda x: calculate_similarity_or_pertency(character, x)\n",
    "        )\n",
    "    ].iloc[:, -3:]\n",
    "\n",
    "    results = []\n",
    "    for subarea in sorted(corte.subareas.unique()):\n",
    "        colegio, area = (\n",
    "            corte[corte.subareas == subarea].colegios.unique()[0],\n",
    "            corte[corte.subareas == subarea].areas.unique()[0],\n",
    "        )\n",
    "        frequencia = corte.subareas.value_counts()[subarea]\n",
    "        results.append([colegio, area, subarea, character, frequencia])\n",
    "\n",
    "    return results\n",
    "\n",
    "max_threads = os.cpu_count()\n",
    "data = []\n",
    "with multiprocessing.Pool(processes=max_threads) as pool:\n",
    "    for result in pool.imap_unordered(process_character, key_words[:5000]):\n",
    "        data.extend(result)"
   ]
  },
  {
   "cell_type": "code",
   "execution_count": 46,
   "metadata": {},
   "outputs": [],
   "source": [
    "freq = pd.DataFrame(data, columns=[\"colegio\", \"area\", \"subarea\", \"palavra_chave\", \"frequencia\"])"
   ]
  },
  {
   "cell_type": "code",
   "execution_count": 47,
   "metadata": {},
   "outputs": [
    {
     "data": {
      "text/html": [
       "<div>\n",
       "<style scoped>\n",
       "    .dataframe tbody tr th:only-of-type {\n",
       "        vertical-align: middle;\n",
       "    }\n",
       "\n",
       "    .dataframe tbody tr th {\n",
       "        vertical-align: top;\n",
       "    }\n",
       "\n",
       "    .dataframe thead th {\n",
       "        text-align: right;\n",
       "    }\n",
       "</style>\n",
       "<table border=\"1\" class=\"dataframe\">\n",
       "  <thead>\n",
       "    <tr style=\"text-align: right;\">\n",
       "      <th></th>\n",
       "      <th>colegio</th>\n",
       "      <th>area</th>\n",
       "      <th>subarea</th>\n",
       "      <th>frequencia</th>\n",
       "    </tr>\n",
       "    <tr>\n",
       "      <th>palavra_chave</th>\n",
       "      <th></th>\n",
       "      <th></th>\n",
       "      <th></th>\n",
       "      <th></th>\n",
       "    </tr>\n",
       "  </thead>\n",
       "  <tbody>\n",
       "    <tr>\n",
       "      <th>tr</th>\n",
       "      <td>humanidades</td>\n",
       "      <td>ciências humanas</td>\n",
       "      <td>educação</td>\n",
       "      <td>4106</td>\n",
       "    </tr>\n",
       "    <tr>\n",
       "      <th>it</th>\n",
       "      <td>humanidades</td>\n",
       "      <td>ciências humanas</td>\n",
       "      <td>educação</td>\n",
       "      <td>4073</td>\n",
       "    </tr>\n",
       "    <tr>\n",
       "      <th>tr</th>\n",
       "      <td>ciências da vida</td>\n",
       "      <td>ciências agrárias</td>\n",
       "      <td>ciências agrárias i</td>\n",
       "      <td>3937</td>\n",
       "    </tr>\n",
       "    <tr>\n",
       "      <th>il</th>\n",
       "      <td>humanidades</td>\n",
       "      <td>ciências humanas</td>\n",
       "      <td>educação</td>\n",
       "      <td>3865</td>\n",
       "    </tr>\n",
       "    <tr>\n",
       "      <th>il</th>\n",
       "      <td>ciências da vida</td>\n",
       "      <td>ciências agrárias</td>\n",
       "      <td>ciências agrárias i</td>\n",
       "      <td>3821</td>\n",
       "    </tr>\n",
       "    <tr>\n",
       "      <th>...</th>\n",
       "      <td>...</td>\n",
       "      <td>...</td>\n",
       "      <td>...</td>\n",
       "      <td>...</td>\n",
       "    </tr>\n",
       "    <tr>\n",
       "      <th>hepática</th>\n",
       "      <td>ciências da vida</td>\n",
       "      <td>ciências biológicas</td>\n",
       "      <td>biodiversidade</td>\n",
       "      <td>1</td>\n",
       "    </tr>\n",
       "    <tr>\n",
       "      <th>hermenêutic - dialétic</th>\n",
       "      <td>humanidades</td>\n",
       "      <td>ciências humanas</td>\n",
       "      <td>educação</td>\n",
       "      <td>1</td>\n",
       "    </tr>\n",
       "    <tr>\n",
       "      <th>herpesvir 8 humano</th>\n",
       "      <td>ciências da vida</td>\n",
       "      <td>ciências da saúde</td>\n",
       "      <td>medicina ii</td>\n",
       "      <td>1</td>\n",
       "    </tr>\n",
       "    <tr>\n",
       "      <th>herpesvir bovino</th>\n",
       "      <td>ciências da vida</td>\n",
       "      <td>ciências agrárias</td>\n",
       "      <td>zootecnia / recursos pesqueiros</td>\n",
       "      <td>1</td>\n",
       "    </tr>\n",
       "    <tr>\n",
       "      <th>interleucin 6</th>\n",
       "      <td>ciências da vida</td>\n",
       "      <td>ciências da saúde</td>\n",
       "      <td>nutrição</td>\n",
       "      <td>1</td>\n",
       "    </tr>\n",
       "  </tbody>\n",
       "</table>\n",
       "<p>23261 rows × 4 columns</p>\n",
       "</div>"
      ],
      "text/plain": [
       "                                 colegio                 area   \n",
       "palavra_chave                                                   \n",
       "tr                           humanidades     ciências humanas  \\\n",
       "it                           humanidades     ciências humanas   \n",
       "tr                      ciências da vida    ciências agrárias   \n",
       "il                           humanidades     ciências humanas   \n",
       "il                      ciências da vida    ciências agrárias   \n",
       "...                                  ...                  ...   \n",
       "hepática                ciências da vida  ciências biológicas   \n",
       "hermenêutic - dialétic       humanidades     ciências humanas   \n",
       "herpesvir 8 humano      ciências da vida    ciências da saúde   \n",
       "herpesvir bovino        ciências da vida    ciências agrárias   \n",
       "interleucin 6           ciências da vida    ciências da saúde   \n",
       "\n",
       "                                                subarea  frequencia  \n",
       "palavra_chave                                                        \n",
       "tr                                             educação        4106  \n",
       "it                                             educação        4073  \n",
       "tr                                  ciências agrárias i        3937  \n",
       "il                                             educação        3865  \n",
       "il                                  ciências agrárias i        3821  \n",
       "...                                                 ...         ...  \n",
       "hepática                                 biodiversidade           1  \n",
       "hermenêutic - dialétic                         educação           1  \n",
       "herpesvir 8 humano                          medicina ii           1  \n",
       "herpesvir bovino        zootecnia / recursos pesqueiros           1  \n",
       "interleucin 6                                  nutrição           1  \n",
       "\n",
       "[23261 rows x 4 columns]"
      ]
     },
     "execution_count": 47,
     "metadata": {},
     "output_type": "execute_result"
    }
   ],
   "source": [
    "freq.set_index('palavra_chave').sort_index().sort_values('frequencia', ascending=False)"
   ]
  }
 ],
 "metadata": {
  "kernelspec": {
   "display_name": "Python 3 (ipykernel)",
   "language": "python",
   "name": "python3"
  },
  "language_info": {
   "codemirror_mode": {
    "name": "ipython",
    "version": 3
   },
   "file_extension": ".py",
   "mimetype": "text/x-python",
   "name": "python",
   "nbconvert_exporter": "python",
   "pygments_lexer": "ipython3",
   "version": "3.10.8"
  },
  "orig_nbformat": 4
 },
 "nbformat": 4,
 "nbformat_minor": 2
}
