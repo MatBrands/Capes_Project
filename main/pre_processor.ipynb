{
 "cells": [
  {
   "cell_type": "code",
   "execution_count": null,
   "metadata": {},
   "outputs": [],
   "source": [
    "import pandas as pd\n",
    "import numpy as np\n",
    "import difflib as dl\n",
    "import multiprocessing\n",
    "import nltk\n",
    "# nltk.download('stopwords')\n",
    "from os import cpu_count\n",
    "from unidecode import unidecode\n",
    "from nltk.corpus import stopwords\n",
    "from nltk.tokenize import wordpunct_tokenize\n",
    "from nltk.stem.lancaster import LancasterStemmer"
   ]
  },
  {
   "cell_type": "code",
   "execution_count": null,
   "metadata": {},
   "outputs": [],
   "source": [
    "year = 2013\n",
    "df = pd.read_csv(f'./Raw/{year}.csv', sep=';', encoding ='latin')\n",
    "df = df[['DS_RESUMO', 'DS_PALAVRA_CHAVE', 'NM_AREA_AVALIACAO']]"
   ]
  },
  {
   "cell_type": "code",
   "execution_count": null,
   "metadata": {},
   "outputs": [],
   "source": [
    "df.columns = df.columns.str.slice(3).str.lower()\n",
    "df.rename(columns={\n",
    "    'base': 'ano'\n",
    "}, inplace=True)\n",
    "\n",
    "for item in list(df.iloc[:, 0:].columns):\n",
    "    df[f'{item}'] = df[f'{item}'].str.lower()"
   ]
  },
  {
   "cell_type": "code",
   "execution_count": null,
   "metadata": {},
   "outputs": [],
   "source": [
    "def rename_areas(text: str) -> str:\n",
    "    if text in ['administração pública e de empresas, ciências contábeis e turismo', 'administração, ciências contábeis e turismo']:\n",
    "        return 'administração pública e de empresas, ciências contábeis e turismo'\n",
    "    elif text in ['arquitetura e urbanismo', 'arquitetura, urbanismo e design']:\n",
    "        return 'arquitetura, urbanismo e design'\n",
    "    elif text in 'filosofia/teologia:subcomissão filosofia':\n",
    "        return 'filosofia'\n",
    "    elif text in ['filosofia/teologia:subcomissão teologia', 'teologia']:\n",
    "        return 'ciências da religião e teologia'\n",
    "    elif text in 'letras / linguística':\n",
    "        return 'linguística e literatura'\n",
    "    elif text in 'artes / música':\n",
    "        return 'artes'\n",
    "    elif text in 'ciências sociais aplicadas i':\n",
    "        return 'serviço social'\n",
    "    else:\n",
    "        return text"
   ]
  },
  {
   "cell_type": "code",
   "execution_count": null,
   "metadata": {},
   "outputs": [],
   "source": [
    "df.area_avaliacao = df.area_avaliacao.apply(rename_areas)\n",
    "del rename_areas"
   ]
  },
  {
   "cell_type": "code",
   "execution_count": null,
   "metadata": {},
   "outputs": [],
   "source": [
    "colegios_dict = {\n",
    "    'ciências da vida': {\n",
    "        'ciências agrárias': ['ciência de alimentos', 'ciências agrárias i', 'medicina veterinária', 'zootecnia / recursos pesqueiros'],\n",
    "        'ciências biológicas': ['biodiversidade', 'ciências biológicas i', 'ciências biológicas ii', 'ciências biológicas iii'],\n",
    "        'ciências da saúde': ['educação física', 'enfermagem', 'farmácia', 'medicina i', 'medicina ii', 'medicina iii', 'nutrição', 'odontologia', 'saúde coletiva']\n",
    "    },\n",
    "    'humanidades': {\n",
    "        'ciências humanas': ['antropologia / arqueologia', 'ciência política e relações internacionais', 'ciências da religião e teologia', 'educação', 'filosofia', 'geografia', 'história', 'psicologia', 'sociologia'],\n",
    "        'ciências sociais aplicadas': ['administração pública e de empresas, ciências contábeis e turismo', 'arquitetura, urbanismo e design', 'comunicação e informação', 'direito', 'economia', 'planejamento urbano e regional / demografia', 'serviço social'],\n",
    "        'linguística, letras e artes': ['artes', 'linguística e literatura']\n",
    "    },\n",
    "    'ciências exatas, tecnológicas e multidisciplinar': {\n",
    "        'ciências exatas e da terra': ['astronomia / física', 'ciência da computação', 'geociências', 'matemática / probabilidade e estatística', 'química'],\n",
    "        'engenharias': ['engenharias i', 'engenharias ii', 'engenharias iii', 'engenharias iv'],\n",
    "        'multidisciplinar': ['biotecnologia', 'ciências ambientais', 'ensino', 'interdisciplinar', 'materiais']\n",
    "    }\n",
    "}"
   ]
  },
  {
   "cell_type": "code",
   "execution_count": null,
   "metadata": {},
   "outputs": [],
   "source": [
    "df['colegios'] = ''\n",
    "df['areas'] = ''\n",
    "df.rename(columns={'area_avaliacao': 'subareas'}, inplace=True)\n",
    "\n",
    "for colegios, areas in colegios_dict.items():\n",
    "    for areas, subareas in areas.items():\n",
    "        df.loc[df.subareas.isin(subareas), 'colegios'] = colegios\n",
    "        df.loc[df.subareas.isin(subareas), 'areas'] = areas\n",
    "        \n",
    "df = df[['resumo', 'palavra_chave', 'colegios', 'areas', 'subareas']]\n",
    "del colegios_dict"
   ]
  },
  {
   "cell_type": "code",
   "execution_count": null,
   "metadata": {},
   "outputs": [],
   "source": [
    "df.palavra_chave.replace(to_replace = r'1[.]', value = ';', regex = True, inplace=True)\n",
    "df.palavra_chave.replace(to_replace = r' \\d[.]', value = ';', regex = True, inplace=True)\n",
    "df.palavra_chave.replace(to_replace = r'(\\S{2,})(?:\\.)', value = '\\\\1;', regex=True, inplace=True)\n",
    "df.palavra_chave.replace(to_replace = r'\\b(pt|en)\\b', value = ';', regex = True, inplace=True)\n",
    "df.palavra_chave.replace(to_replace = r' ,|, | [,] | /|/ | [/] ', value = ';', regex = True, inplace=True)\n",
    "df.palavra_chave.replace(to_replace = r' [.] |\\(\\d\\)', value = ';', regex = True, inplace=True)\n",
    "df.palavra_chave.replace(to_replace = r' \\x96 |\\x93', value = ';', regex = True, inplace=True)\n",
    "df.palavra_chave.replace(to_replace = r'[^a-z0-9\\s\\x80-\\xff,.:;?!-]', value = '', regex = True, inplace=True)\n",
    "df.palavra_chave.replace(to_replace = r' - |; | ;|; ;', value = ';', regex = True, inplace=True)\n",
    "df.palavra_chave.replace(to_replace = r';{2,}', value = ';', regex = True, inplace=True)\n",
    "df.palavra_chave.replace(to_replace= r'[\\W_]+$|^[;]+', value='', regex=True, inplace=True)\n",
    "df.palavra_chave.replace(to_replace = r'palavras-chave\\S', value = '', regex = True, inplace=True)\n",
    "df.palavra_chave.replace(to_replace = r'^\\s+|\\s+$|\\x80', value = '', regex = True, inplace=True)\n",
    "df.palavra_chave.replace(to_replace = r'[^\\w\\s;]', value = '', regex = True, inplace=True)"
   ]
  },
  {
   "cell_type": "code",
   "execution_count": null,
   "metadata": {},
   "outputs": [],
   "source": [
    "df.resumo.replace(to_replace= r'[^a-zA-Z0-9\\s]+', value='', regex=True, inplace=True)"
   ]
  },
  {
   "cell_type": "code",
   "execution_count": null,
   "metadata": {},
   "outputs": [],
   "source": [
    "def remove_stopwords(text: str) -> str:\n",
    "    stop_words = set(stopwords.words('portuguese'))\n",
    "    new_text = [item for item in wordpunct_tokenize(text) if item not in stop_words]\n",
    "    return \" \".join(new_text)"
   ]
  },
  {
   "cell_type": "code",
   "execution_count": null,
   "metadata": {},
   "outputs": [],
   "source": [
    "def lc_stem(text: str) -> str:\n",
    "    stemmer = LancasterStemmer()\n",
    "    words = [stemmer.stem(word) for word in wordpunct_tokenize(text)]\n",
    "    return \" \".join(words)"
   ]
  },
  {
   "cell_type": "code",
   "execution_count": null,
   "metadata": {},
   "outputs": [],
   "source": [
    "df.resumo = df.resumo.apply(remove_stopwords).apply(lc_stem).apply(lambda x: unidecode(x))\n",
    "df.palavra_chave = df.palavra_chave.apply(remove_stopwords).apply(lc_stem).apply(lambda x: unidecode(x))\n",
    "df.palavra_chave.replace(to_replace = r' ; ', value = ';', regex = True, inplace=True)\n",
    "del remove_stopwords, lc_stem"
   ]
  },
  {
   "cell_type": "code",
   "execution_count": null,
   "metadata": {},
   "outputs": [],
   "source": [
    "key_words = df.palavra_chave.copy()\n",
    "key_words = list(set(';'.join(key_words).split(';')))\n",
    "key_words = [item for item in key_words if 2 < len(item) < 80]\n",
    "\n",
    "for i, _ in enumerate(key_words):\n",
    "    key_words[i] = key_words[i].strip()\n",
    "\n",
    "key_words = list(set(key_words))"
   ]
  },
  {
   "cell_type": "code",
   "execution_count": null,
   "metadata": {},
   "outputs": [],
   "source": [
    "def calculate_similarity_or_pertency(sentence: str, text: str) -> str:\n",
    "    if sentence in text or text in sentence:\n",
    "        return True\n",
    "    similaridade = dl.SequenceMatcher(None, sentence, text).ratio()\n",
    "    porcentagem = int(similaridade * 100)\n",
    "    if porcentagem > 75:\n",
    "        return True\n",
    "    \n",
    "    return False"
   ]
  },
  {
   "attachments": {},
   "cell_type": "markdown",
   "metadata": {},
   "source": [
    "- 50 palavras_chave = 2m 42.3s\n",
    "- 500 palavras_chave = 12m 24.6s\n",
    "- 5000 palavras_chave = 126m 2.3s\n",
    "- 109350 palavras_chave = ?"
   ]
  },
  {
   "cell_type": "code",
   "execution_count": null,
   "metadata": {},
   "outputs": [],
   "source": [
    "def process_character(character):\n",
    "    corte = df[\n",
    "        df.palavra_chave.apply(\n",
    "            lambda x: calculate_similarity_or_pertency(character, x)\n",
    "        ) \n",
    "        |\n",
    "        df.resumo.apply(\n",
    "            lambda x: calculate_similarity_or_pertency(character, x)\n",
    "        )\n",
    "    ].iloc[:, -3:]\n",
    "\n",
    "    results = []\n",
    "    for subarea in sorted(corte.subareas.unique()):\n",
    "        colegio, area = (\n",
    "            corte[corte.subareas == subarea].colegios.unique()[0],\n",
    "            corte[corte.subareas == subarea].areas.unique()[0],\n",
    "        )\n",
    "        frequencia = corte.subareas.value_counts()[subarea]\n",
    "        results.append([colegio, area, subarea, character, frequencia])\n",
    "\n",
    "    return results\n",
    "\n",
    "max_threads = cpu_count()\n",
    "data = []\n",
    "with multiprocessing.Pool(processes=max_threads) as pool:\n",
    "    for result in pool.imap_unordered(process_character, key_words[:500]):\n",
    "        data.extend(result)"
   ]
  },
  {
   "cell_type": "code",
   "execution_count": null,
   "metadata": {},
   "outputs": [],
   "source": [
    "columns_dtype = {\n",
    "    'colegio': 'category',\n",
    "    'area': 'category',\n",
    "    'subarea': 'category',\n",
    "    'palavra_chave': 'category',\n",
    "    'frequencia': 'uint64'\n",
    "}\n",
    "\n",
    "freq = pd.DataFrame(data, columns=columns_dtype.keys()).astype(columns_dtype)"
   ]
  },
  {
   "cell_type": "code",
   "execution_count": null,
   "metadata": {},
   "outputs": [],
   "source": [
    "freq.set_index('palavra_chave').sort_index().sort_values('frequencia', ascending=False)"
   ]
  }
 ],
 "metadata": {
  "kernelspec": {
   "display_name": "Python 3 (ipykernel)",
   "language": "python",
   "name": "python3"
  },
  "language_info": {
   "codemirror_mode": {
    "name": "ipython",
    "version": 3
   },
   "file_extension": ".py",
   "mimetype": "text/x-python",
   "name": "python",
   "nbconvert_exporter": "python",
   "pygments_lexer": "ipython3",
   "version": "3.11.0"
  },
  "orig_nbformat": 4
 },
 "nbformat": 4,
 "nbformat_minor": 2
}
