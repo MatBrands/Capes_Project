{
 "cells": [
  {
   "cell_type": "code",
   "execution_count": 75,
   "metadata": {},
   "outputs": [
    {
     "name": "stderr",
     "output_type": "stream",
     "text": [
      "[nltk_data] Downloading package stopwords to\n",
      "[nltk_data]     /home/matheusmbr/nltk_data...\n",
      "[nltk_data]   Package stopwords is already up-to-date!\n"
     ]
    }
   ],
   "source": [
    "import pandas as pd\n",
    "import numpy as np\n",
    "import nltk\n",
    "nltk.download('stopwords')\n",
    "from nltk.corpus import stopwords\n",
    "from nltk.tokenize import word_tokenize\n",
    "from nltk.tokenize.treebank import TreebankWordDetokenizer"
   ]
  },
  {
   "cell_type": "code",
   "execution_count": 76,
   "metadata": {},
   "outputs": [],
   "source": [
    "year = 2013\n",
    "df = pd.read_csv(f'./Raw/{year}.csv', sep=';', encoding ='latin')\n",
    "df_processed = df[['AN_BASE', 'NM_SUBTIPO_PRODUCAO', 'NM_PROJETO', 'DS_RESUMO', 'DS_PALAVRA_CHAVE', 'DS_ABSTRACT', 'DS_KEYWORD', 'NM_AREA_AVALIACAO']].copy()"
   ]
  },
  {
   "cell_type": "code",
   "execution_count": 77,
   "metadata": {},
   "outputs": [
    {
     "data": {
      "text/html": [
       "<div>\n",
       "<style scoped>\n",
       "    .dataframe tbody tr th:only-of-type {\n",
       "        vertical-align: middle;\n",
       "    }\n",
       "\n",
       "    .dataframe tbody tr th {\n",
       "        vertical-align: top;\n",
       "    }\n",
       "\n",
       "    .dataframe thead th {\n",
       "        text-align: right;\n",
       "    }\n",
       "</style>\n",
       "<table border=\"1\" class=\"dataframe\">\n",
       "  <thead>\n",
       "    <tr style=\"text-align: right;\">\n",
       "      <th></th>\n",
       "      <th>AN_BASE</th>\n",
       "      <th>NM_SUBTIPO_PRODUCAO</th>\n",
       "      <th>NM_PROJETO</th>\n",
       "      <th>DS_RESUMO</th>\n",
       "      <th>DS_PALAVRA_CHAVE</th>\n",
       "      <th>DS_ABSTRACT</th>\n",
       "      <th>DS_KEYWORD</th>\n",
       "      <th>NM_AREA_AVALIACAO</th>\n",
       "    </tr>\n",
       "  </thead>\n",
       "  <tbody>\n",
       "    <tr>\n",
       "      <th>0</th>\n",
       "      <td>2013</td>\n",
       "      <td>DISSERTAÇÃO</td>\n",
       "      <td>NaN</td>\n",
       "      <td>A POSSIBILIDADE DA OCORRÊNCIA DE SISMOS NO BRA...</td>\n",
       "      <td>ANÁLISE SÍSMICA, CONCRETO ARMADO, DETALHAMENTO...</td>\n",
       "      <td>NÃO INFORMADO</td>\n",
       "      <td>NÃO INFORMADO</td>\n",
       "      <td>ENGENHARIAS I</td>\n",
       "    </tr>\n",
       "    <tr>\n",
       "      <th>1</th>\n",
       "      <td>2013</td>\n",
       "      <td>DISSERTAÇÃO</td>\n",
       "      <td>NaN</td>\n",
       "      <td>AS OBRAS DE PONTES ESTAIADAS ENVOLVEM UMA TECN...</td>\n",
       "      <td>PONTE ESTAIADA. PONTE DO SABER. ANÁLISE ESTRUT...</td>\n",
       "      <td>NÃO INFORMADO</td>\n",
       "      <td>NÃO INFORMADO</td>\n",
       "      <td>ENGENHARIAS I</td>\n",
       "    </tr>\n",
       "    <tr>\n",
       "      <th>2</th>\n",
       "      <td>2013</td>\n",
       "      <td>TESE</td>\n",
       "      <td>HIPERPLASIA DE CÉLULAS NEUROENDRÓCRINAS EM LAC...</td>\n",
       "      <td>A HIPERPLASIA DE CÉLULAS NEUROENDÓCRINAS DO LA...</td>\n",
       "      <td>1. DOENÇAS PULMONARES INTERSTICIAIS  RADIOGRA...</td>\n",
       "      <td>NEUROENDOCRINE CELL HYPERPLASIA OF INFANCY (NE...</td>\n",
       "      <td>NÃO INFORMADO</td>\n",
       "      <td>MEDICINA II</td>\n",
       "    </tr>\n",
       "    <tr>\n",
       "      <th>3</th>\n",
       "      <td>2013</td>\n",
       "      <td>TESE</td>\n",
       "      <td>AVALIAÇÃO ATRAVÉS DAS TÉCNICAS AVANÇADAS DE RM...</td>\n",
       "      <td>ESTUDOS RECENTES TEM DEMONSTRADO ALTERAÇÕES DA...</td>\n",
       "      <td>1. NEURALGIA DO TRIGÊMEO - FISIOPATOLOGIA. 2. ...</td>\n",
       "      <td>RECENT STUDIES HAVE DETECTED LOCAL CHANGES OF ...</td>\n",
       "      <td>NÃO INFORMADO</td>\n",
       "      <td>MEDICINA II</td>\n",
       "    </tr>\n",
       "    <tr>\n",
       "      <th>4</th>\n",
       "      <td>2013</td>\n",
       "      <td>DISSERTAÇÃO</td>\n",
       "      <td>NaN</td>\n",
       "      <td>DENTRE AS TÉCNICAS MAIS UTILIZADAS NA DETERMIN...</td>\n",
       "      <td>PLATAFORMAS FIXAS, ESTRUTURAS OFFSHORE, ESTRUT...</td>\n",
       "      <td>NÃO INFORMADO</td>\n",
       "      <td>NÃO INFORMADO</td>\n",
       "      <td>ENGENHARIAS I</td>\n",
       "    </tr>\n",
       "  </tbody>\n",
       "</table>\n",
       "</div>"
      ],
      "text/plain": [
       "   AN_BASE NM_SUBTIPO_PRODUCAO  \\\n",
       "0     2013         DISSERTAÇÃO   \n",
       "1     2013         DISSERTAÇÃO   \n",
       "2     2013                TESE   \n",
       "3     2013                TESE   \n",
       "4     2013         DISSERTAÇÃO   \n",
       "\n",
       "                                          NM_PROJETO  \\\n",
       "0                                                NaN   \n",
       "1                                                NaN   \n",
       "2  HIPERPLASIA DE CÉLULAS NEUROENDRÓCRINAS EM LAC...   \n",
       "3  AVALIAÇÃO ATRAVÉS DAS TÉCNICAS AVANÇADAS DE RM...   \n",
       "4                                                NaN   \n",
       "\n",
       "                                           DS_RESUMO  \\\n",
       "0  A POSSIBILIDADE DA OCORRÊNCIA DE SISMOS NO BRA...   \n",
       "1  AS OBRAS DE PONTES ESTAIADAS ENVOLVEM UMA TECN...   \n",
       "2  A HIPERPLASIA DE CÉLULAS NEUROENDÓCRINAS DO LA...   \n",
       "3  ESTUDOS RECENTES TEM DEMONSTRADO ALTERAÇÕES DA...   \n",
       "4  DENTRE AS TÉCNICAS MAIS UTILIZADAS NA DETERMIN...   \n",
       "\n",
       "                                    DS_PALAVRA_CHAVE  \\\n",
       "0  ANÁLISE SÍSMICA, CONCRETO ARMADO, DETALHAMENTO...   \n",
       "1  PONTE ESTAIADA. PONTE DO SABER. ANÁLISE ESTRUT...   \n",
       "2  1. DOENÇAS PULMONARES INTERSTICIAIS  RADIOGRA...   \n",
       "3  1. NEURALGIA DO TRIGÊMEO - FISIOPATOLOGIA. 2. ...   \n",
       "4  PLATAFORMAS FIXAS, ESTRUTURAS OFFSHORE, ESTRUT...   \n",
       "\n",
       "                                         DS_ABSTRACT     DS_KEYWORD  \\\n",
       "0                                      NÃO INFORMADO  NÃO INFORMADO   \n",
       "1                                      NÃO INFORMADO  NÃO INFORMADO   \n",
       "2  NEUROENDOCRINE CELL HYPERPLASIA OF INFANCY (NE...  NÃO INFORMADO   \n",
       "3  RECENT STUDIES HAVE DETECTED LOCAL CHANGES OF ...  NÃO INFORMADO   \n",
       "4                                      NÃO INFORMADO  NÃO INFORMADO   \n",
       "\n",
       "  NM_AREA_AVALIACAO  \n",
       "0     ENGENHARIAS I  \n",
       "1     ENGENHARIAS I  \n",
       "2       MEDICINA II  \n",
       "3       MEDICINA II  \n",
       "4     ENGENHARIAS I  "
      ]
     },
     "execution_count": 77,
     "metadata": {},
     "output_type": "execute_result"
    }
   ],
   "source": [
    "df_processed.head()"
   ]
  },
  {
   "cell_type": "code",
   "execution_count": 78,
   "metadata": {},
   "outputs": [],
   "source": [
    "df_processed.columns = df_processed.columns.str.slice(3).str.lower()\n",
    "df_processed.rename(columns={\n",
    "    'base': 'ano'\n",
    "}, inplace=True)\n",
    "\n",
    "for item in list(df_processed.iloc[:, 1:].columns):\n",
    "    df_processed[f'{item}'] = df_processed[f'{item}'].str.lower()"
   ]
  },
  {
   "cell_type": "code",
   "execution_count": 79,
   "metadata": {},
   "outputs": [
    {
     "data": {
      "text/plain": [
       "ano                     0\n",
       "subtipo_producao        0\n",
       "projeto             22280\n",
       "resumo                  0\n",
       "palavra_chave           0\n",
       "abstract                7\n",
       "keyword                 0\n",
       "area_avaliacao          0\n",
       "dtype: int64"
      ]
     },
     "execution_count": 79,
     "metadata": {},
     "output_type": "execute_result"
    }
   ],
   "source": [
    "df_processed.isna().sum()"
   ]
  },
  {
   "cell_type": "code",
   "execution_count": 80,
   "metadata": {},
   "outputs": [],
   "source": [
    "df_processed.dropna(subset=['abstract'], inplace=True)\n",
    "\n",
    "df_processed.fillna({ 'projeto': 'não informado' }, inplace=True)\n",
    "\n",
    "# df_processed.drop(index=df_processed[\n",
    "#     df_processed.resumo.str.contains(\"não informado\") | df_processed.palavra_chave.str.contains(\"não informado\") | \n",
    "#     df_processed.abstract.str.contains(\"não informado\") | df_processed.keyword.str.contains(\"não informado\") | \n",
    "#     df_processed.grande_area_conhecimento.str.contains(\"não informado\")\n",
    "# ].index, inplace=True)\n",
    "# df_processed.reset_index(drop=True, inplace=True)"
   ]
  },
  {
   "cell_type": "code",
   "execution_count": 81,
   "metadata": {},
   "outputs": [],
   "source": [
    "idx = df_processed[(df_processed.palavra_chave == df_processed.keyword) | (df_processed.resumo == df_processed.abstract)].index\n",
    "df_processed.drop(index=idx, inplace=True)"
   ]
  },
  {
   "cell_type": "code",
   "execution_count": 82,
   "metadata": {},
   "outputs": [],
   "source": [
    "for item in ['resumo', 'abstract']:\n",
    "    df_processed[f'{item}'].replace(to_replace ='[0-9]+', value = '', regex = True, inplace=True)\n",
    "    df_processed[f'{item}'].replace(to_replace ='[,.:;!?]+', value = '', regex = True, inplace=True)\n",
    "    df_processed[f'{item}'].replace(to_replace ='[/<>()|\\+\\-\\$%&#@\\'\\\"]+', value = '', regex = True, inplace=True)"
   ]
  },
  {
   "cell_type": "code",
   "execution_count": 83,
   "metadata": {},
   "outputs": [],
   "source": [
    "for item in ['palavra_chave', 'keyword']:\n",
    "    df_processed[f'{item}'].replace(to_replace ='([0-9][. ])', value = ',', regex = True, inplace=True)\n",
    "    df_processed[f'{item}'].replace(to_replace ='([;])+', value = ',', regex = True, inplace=True)\n",
    "    df_processed[f'{item}'].replace(to_replace ='([.])+', value = ',', regex = True, inplace=True)\n",
    "    df_processed[f'{item}'].replace(to_replace ='(  )+', value = ' ', regex = True, inplace=True)\n",
    "    df_processed[f'{item}'] = df_processed[f'{item}'].str.lstrip(', ')"
   ]
  },
  {
   "cell_type": "code",
   "execution_count": 84,
   "metadata": {},
   "outputs": [
    {
     "data": {
      "text/html": [
       "<div>\n",
       "<style scoped>\n",
       "    .dataframe tbody tr th:only-of-type {\n",
       "        vertical-align: middle;\n",
       "    }\n",
       "\n",
       "    .dataframe tbody tr th {\n",
       "        vertical-align: top;\n",
       "    }\n",
       "\n",
       "    .dataframe thead th {\n",
       "        text-align: right;\n",
       "    }\n",
       "</style>\n",
       "<table border=\"1\" class=\"dataframe\">\n",
       "  <thead>\n",
       "    <tr style=\"text-align: right;\">\n",
       "      <th></th>\n",
       "      <th>ano</th>\n",
       "      <th>subtipo_producao</th>\n",
       "      <th>projeto</th>\n",
       "      <th>resumo</th>\n",
       "      <th>palavra_chave</th>\n",
       "      <th>abstract</th>\n",
       "      <th>keyword</th>\n",
       "      <th>area_avaliacao</th>\n",
       "    </tr>\n",
       "  </thead>\n",
       "  <tbody>\n",
       "    <tr>\n",
       "      <th>0</th>\n",
       "      <td>2013</td>\n",
       "      <td>dissertação</td>\n",
       "      <td>não informado</td>\n",
       "      <td>a possibilidade da ocorrência de sismos no bra...</td>\n",
       "      <td>análise sísmica, concreto armado, detalhamento...</td>\n",
       "      <td>não informado</td>\n",
       "      <td>não informado</td>\n",
       "      <td>engenharias i</td>\n",
       "    </tr>\n",
       "    <tr>\n",
       "      <th>1</th>\n",
       "      <td>2013</td>\n",
       "      <td>dissertação</td>\n",
       "      <td>não informado</td>\n",
       "      <td>as obras de pontes estaiadas envolvem uma tecn...</td>\n",
       "      <td>ponte estaiada, ponte do saber, análise estrut...</td>\n",
       "      <td>não informado</td>\n",
       "      <td>não informado</td>\n",
       "      <td>engenharias i</td>\n",
       "    </tr>\n",
       "    <tr>\n",
       "      <th>2</th>\n",
       "      <td>2013</td>\n",
       "      <td>tese</td>\n",
       "      <td>hiperplasia de células neuroendrócrinas em lac...</td>\n",
       "      <td>a hiperplasia de células neuroendócrinas do la...</td>\n",
       "      <td>doenças pulmonares intersticiais  radiografia...</td>\n",
       "      <td>neuroendocrine cell hyperplasia of infancy neh...</td>\n",
       "      <td>não informado</td>\n",
       "      <td>medicina ii</td>\n",
       "    </tr>\n",
       "    <tr>\n",
       "      <th>3</th>\n",
       "      <td>2013</td>\n",
       "      <td>tese</td>\n",
       "      <td>avaliação através das técnicas avançadas de rm...</td>\n",
       "      <td>estudos recentes tem demonstrado alterações da...</td>\n",
       "      <td>neuralgia do trigêmeo - fisiopatologia, , neur...</td>\n",
       "      <td>recent studies have detected local changes of ...</td>\n",
       "      <td>não informado</td>\n",
       "      <td>medicina ii</td>\n",
       "    </tr>\n",
       "    <tr>\n",
       "      <th>4</th>\n",
       "      <td>2013</td>\n",
       "      <td>dissertação</td>\n",
       "      <td>não informado</td>\n",
       "      <td>dentre as técnicas mais utilizadas na determin...</td>\n",
       "      <td>plataformas fixas, estruturas offshore, estrut...</td>\n",
       "      <td>não informado</td>\n",
       "      <td>não informado</td>\n",
       "      <td>engenharias i</td>\n",
       "    </tr>\n",
       "  </tbody>\n",
       "</table>\n",
       "</div>"
      ],
      "text/plain": [
       "    ano subtipo_producao                                            projeto  \\\n",
       "0  2013      dissertação                                      não informado   \n",
       "1  2013      dissertação                                      não informado   \n",
       "2  2013             tese  hiperplasia de células neuroendrócrinas em lac...   \n",
       "3  2013             tese  avaliação através das técnicas avançadas de rm...   \n",
       "4  2013      dissertação                                      não informado   \n",
       "\n",
       "                                              resumo  \\\n",
       "0  a possibilidade da ocorrência de sismos no bra...   \n",
       "1  as obras de pontes estaiadas envolvem uma tecn...   \n",
       "2  a hiperplasia de células neuroendócrinas do la...   \n",
       "3  estudos recentes tem demonstrado alterações da...   \n",
       "4  dentre as técnicas mais utilizadas na determin...   \n",
       "\n",
       "                                       palavra_chave  \\\n",
       "0  análise sísmica, concreto armado, detalhamento...   \n",
       "1  ponte estaiada, ponte do saber, análise estrut...   \n",
       "2  doenças pulmonares intersticiais  radiografia...   \n",
       "3  neuralgia do trigêmeo - fisiopatologia, , neur...   \n",
       "4  plataformas fixas, estruturas offshore, estrut...   \n",
       "\n",
       "                                            abstract        keyword  \\\n",
       "0                                      não informado  não informado   \n",
       "1                                      não informado  não informado   \n",
       "2  neuroendocrine cell hyperplasia of infancy neh...  não informado   \n",
       "3  recent studies have detected local changes of ...  não informado   \n",
       "4                                      não informado  não informado   \n",
       "\n",
       "  area_avaliacao  \n",
       "0  engenharias i  \n",
       "1  engenharias i  \n",
       "2    medicina ii  \n",
       "3    medicina ii  \n",
       "4  engenharias i  "
      ]
     },
     "execution_count": 84,
     "metadata": {},
     "output_type": "execute_result"
    }
   ],
   "source": [
    "df_processed.head()"
   ]
  },
  {
   "attachments": {},
   "cell_type": "markdown",
   "metadata": {},
   "source": [
    "## Testes"
   ]
  },
  {
   "cell_type": "code",
   "execution_count": 140,
   "metadata": {},
   "outputs": [
    {
     "name": "stderr",
     "output_type": "stream",
     "text": [
      "[nltk_data] Downloading package stopwords to\n",
      "[nltk_data]     /home/matheusmbr/nltk_data...\n",
      "[nltk_data]   Package stopwords is already up-to-date!\n"
     ]
    }
   ],
   "source": [
    "# Importação das bibliotecas\n",
    "import pandas as pd\n",
    "import numpy as np\n",
    "import nltk\n",
    "nltk.download('stopwords')\n",
    "from nltk.corpus import stopwords\n",
    "from nltk.tokenize import word_tokenize"
   ]
  },
  {
   "cell_type": "code",
   "execution_count": 141,
   "metadata": {},
   "outputs": [],
   "source": [
    "test = df_processed.resumo.copy()"
   ]
  },
  {
   "cell_type": "code",
   "execution_count": 142,
   "metadata": {},
   "outputs": [],
   "source": [
    "test = test.head(50)"
   ]
  },
  {
   "cell_type": "code",
   "execution_count": 143,
   "metadata": {},
   "outputs": [],
   "source": [
    "def pre_processamento(text):\n",
    "    stop_words = set(stopwords.words('portuguese'))\n",
    "    new_text = [item for item in text if item not in stop_words]\n",
    "    return \" \".join(new_text)"
   ]
  },
  {
   "cell_type": "code",
   "execution_count": 144,
   "metadata": {},
   "outputs": [],
   "source": [
    "test = test.apply(word_tokenize).apply(pre_processamento)"
   ]
  },
  {
   "cell_type": "code",
   "execution_count": 145,
   "metadata": {},
   "outputs": [
    {
     "data": {
      "text/plain": [
       "0    possibilidade ocorrência sismos brasil possam ...\n",
       "1    obras pontes estaiadas envolvem tecnologia dif...\n",
       "2    hiperplasia células neuroendócrinas lactente h...\n",
       "3    estudos recentes demonstrado alterações substâ...\n",
       "4    dentre técnicas utilizadas determinação capaci...\n",
       "Name: resumo, dtype: object"
      ]
     },
     "execution_count": 145,
     "metadata": {},
     "output_type": "execute_result"
    }
   ],
   "source": [
    "test.head()"
   ]
  },
  {
   "cell_type": "code",
   "execution_count": 146,
   "metadata": {},
   "outputs": [],
   "source": [
    "from nltk.stem.snowball import SnowballStemmer\n",
    "\n",
    "def stemming_bag(words, stemmer=SnowballStemmer(\"portuguese\")):\n",
    "    return [stemmer.stem(w) for w in words]\n",
    "\n",
    "test = test.apply(word_tokenize).apply(stemming_bag)"
   ]
  },
  {
   "cell_type": "code",
   "execution_count": 147,
   "metadata": {},
   "outputs": [
    {
     "data": {
      "text/plain": [
       "0     [possibil, ocorrent, sism, brasil, poss, compr...\n",
       "1     [obras, pont, estai, envolv, tecnolog, diferen...\n",
       "2     [hiperplas, célul, neuroendócrin, lactent, hcn...\n",
       "3     [estud, recent, demonstr, alter, substânc, bra...\n",
       "4     [dentr, técnic, utiliz, determin, capac, resis...\n",
       "5     [ness, trabalh, objetiv, test, performanc, map...\n",
       "6     [qualidad, vid, enquant, orient, polít, públic...\n",
       "8     [síndrom, sjögren, ss, doenc, autoimun, comum,...\n",
       "9     [proteçã, trabalh, tratas, construçã, histór, ...\n",
       "10    [leishmanios, visceral, human, lvh, conhec, ca...\n",
       "13    [present, dissert, traz, result, obtid, atravé...\n",
       "14    [objet, dest, estud, analis, retrospect, tomog...\n",
       "15    [trabalh, apresent, estud, compar, alguns, pon...\n",
       "16    [tanqu, armazen, equip, industri, encontr, div...\n",
       "17    [dissert, inser, linh, pesquis, literatur, mi...\n",
       "18    [crescent, foment, tecnolog, fic, abertur, crí...\n",
       "19    [dissert, pretend, desenvolv, estud, compar, p...\n",
       "20    [pesquis, trat, relaçã, alguns, acontec, histó...\n",
       "21    [trabalh, result, pesquis, alun, professor, cu...\n",
       "22    [cidad, curitib, apresentas, inser, divers, cu...\n",
       "23    [trabalh, apresent, reflexã, acerc, cultur, in...\n",
       "24    [catet, hemodiális, chd, import, caus, infecçõ...\n",
       "27    [pesquis, apresent, aspect, represent, atuaçã,...\n",
       "28    [dissert, analis, obras, autor, mineir, milton...\n",
       "33    [desenvolv, sustent, planet, assim, respons, s...\n",
       "34    [estrutur, reprodut, import, ferrament, estud,...\n",
       "35    [red, mundial, comput, internet, atual, font, ...\n",
       "36    [introdu, objet, cânc, mam, comum, mulh, incid...\n",
       "37    [citronel, cymbopogon, winterianus, plant, aro...\n",
       "38    [nest, estud, revisit, percurs, histór, poes, ...\n",
       "39    [constant, busc, sab, induz, hom, auxiliars, i...\n",
       "40    [dissert, pretend, destac, influênc, ide, mode...\n",
       "41    [dissert, objet, analis, tem, melancol, mort, ...\n",
       "42    [hom, constant, busc, respost, alivi, tensõ, d...\n",
       "43    [present, pesquis, fundamentous, estud, teor, ...\n",
       "44    [pesquis, feit, tend, objet, livrovisagens, as...\n",
       "45    [dissert, investig, relaçã, direit, literatur,...\n",
       "46    [pesquis, aproprias, univers, literatur, apres...\n",
       "47    [nest, trabalh, analis, intertextual, caracter...\n",
       "48    [dissert, investig, conceit, filosóf, mort, an...\n",
       "49    [pros, poétic, modern, idad, serrot, muril, me...\n",
       "50    [baseandos, estud, intertextual, part, concepç...\n",
       "51    [trabalh, investig, obra, noel, ros, quant, as...\n",
       "52    [dissert, propôs, estud, presenc, eulír, femin...\n",
       "53    [import, samb, músic, popul, brasileir, deves,...\n",
       "54    [pesquis, apresent, estud, obra, memór, malíc,...\n",
       "55    [dissert, abord, novel, cop, cól, raduan, nass...\n",
       "56    [pesquis, objet, estud, romanc, policial, bras...\n",
       "57    [pesquis, propõ, investig, fest, carnavalesc, ...\n",
       "58    [objet, dest, trabalh, busc, hipótes, justifiq...\n",
       "Name: resumo, dtype: object"
      ]
     },
     "execution_count": 147,
     "metadata": {},
     "output_type": "execute_result"
    }
   ],
   "source": [
    "test"
   ]
  }
 ],
 "metadata": {
  "kernelspec": {
   "display_name": "cluster_capes_venv",
   "language": "python",
   "name": "python3"
  },
  "language_info": {
   "codemirror_mode": {
    "name": "ipython",
    "version": 3
   },
   "file_extension": ".py",
   "mimetype": "text/x-python",
   "name": "python",
   "nbconvert_exporter": "python",
   "pygments_lexer": "ipython3",
   "version": "3.10.8"
  },
  "orig_nbformat": 4,
  "vscode": {
   "interpreter": {
    "hash": "0d4c46c82f51ef28f5eab6816ca9e5cac0bb774198226a09b584f8bcd34ab895"
   }
  }
 },
 "nbformat": 4,
 "nbformat_minor": 2
}
