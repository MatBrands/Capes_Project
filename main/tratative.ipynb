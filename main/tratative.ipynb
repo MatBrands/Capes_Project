{
 "cells": [
  {
   "cell_type": "code",
   "execution_count": 32,
   "metadata": {},
   "outputs": [
    {
     "name": "stderr",
     "output_type": "stream",
     "text": [
      "[nltk_data] Downloading package stopwords to\n",
      "[nltk_data]     /home/matheusmbr/nltk_data...\n",
      "[nltk_data]   Package stopwords is already up-to-date!\n"
     ]
    }
   ],
   "source": [
    "import pandas as pd\n",
    "import numpy as np\n",
    "import nltk\n",
    "import spacy\n",
    "nltk.download('stopwords')\n",
    "from tqdm import tqdm\n",
    "from nltk.corpus import stopwords\n",
    "from nltk.tokenize import wordpunct_tokenize\n",
    "from nltk.stem.lancaster import LancasterStemmer\n",
    "\n",
    "tqdm.pandas(desc=\"my bar!\")"
   ]
  },
  {
   "cell_type": "code",
   "execution_count": 33,
   "metadata": {},
   "outputs": [],
   "source": [
    "try:\n",
    "    nlp = spacy.load('pt_core_news_sm')\n",
    "except:\n",
    "    import os\n",
    "    os.system('python -m spacy download pt_core_news_sm')\n",
    "    nlp = spacy.load('pt_core_news_sm')"
   ]
  },
  {
   "cell_type": "code",
   "execution_count": 34,
   "metadata": {},
   "outputs": [],
   "source": [
    "year = 2013\n",
    "df = pd.read_csv(f'./Raw/{year}.csv', sep=';', encoding ='latin')\n",
    "df_processed = df[['AN_BASE', 'NM_SUBTIPO_PRODUCAO', 'NM_PROJETO', 'DS_RESUMO', 'DS_PALAVRA_CHAVE', 'DS_ABSTRACT', 'DS_KEYWORD', 'NM_AREA_AVALIACAO']].copy()"
   ]
  },
  {
   "cell_type": "code",
   "execution_count": 35,
   "metadata": {},
   "outputs": [
    {
     "data": {
      "text/html": [
       "<div>\n",
       "<style scoped>\n",
       "    .dataframe tbody tr th:only-of-type {\n",
       "        vertical-align: middle;\n",
       "    }\n",
       "\n",
       "    .dataframe tbody tr th {\n",
       "        vertical-align: top;\n",
       "    }\n",
       "\n",
       "    .dataframe thead th {\n",
       "        text-align: right;\n",
       "    }\n",
       "</style>\n",
       "<table border=\"1\" class=\"dataframe\">\n",
       "  <thead>\n",
       "    <tr style=\"text-align: right;\">\n",
       "      <th></th>\n",
       "      <th>AN_BASE</th>\n",
       "      <th>NM_SUBTIPO_PRODUCAO</th>\n",
       "      <th>NM_PROJETO</th>\n",
       "      <th>DS_RESUMO</th>\n",
       "      <th>DS_PALAVRA_CHAVE</th>\n",
       "      <th>DS_ABSTRACT</th>\n",
       "      <th>DS_KEYWORD</th>\n",
       "      <th>NM_AREA_AVALIACAO</th>\n",
       "    </tr>\n",
       "  </thead>\n",
       "  <tbody>\n",
       "    <tr>\n",
       "      <th>0</th>\n",
       "      <td>2013</td>\n",
       "      <td>DISSERTAÇÃO</td>\n",
       "      <td>NaN</td>\n",
       "      <td>A POSSIBILIDADE DA OCORRÊNCIA DE SISMOS NO BRA...</td>\n",
       "      <td>ANÁLISE SÍSMICA, CONCRETO ARMADO, DETALHAMENTO...</td>\n",
       "      <td>NÃO INFORMADO</td>\n",
       "      <td>NÃO INFORMADO</td>\n",
       "      <td>ENGENHARIAS I</td>\n",
       "    </tr>\n",
       "    <tr>\n",
       "      <th>1</th>\n",
       "      <td>2013</td>\n",
       "      <td>DISSERTAÇÃO</td>\n",
       "      <td>NaN</td>\n",
       "      <td>AS OBRAS DE PONTES ESTAIADAS ENVOLVEM UMA TECN...</td>\n",
       "      <td>PONTE ESTAIADA. PONTE DO SABER. ANÁLISE ESTRUT...</td>\n",
       "      <td>NÃO INFORMADO</td>\n",
       "      <td>NÃO INFORMADO</td>\n",
       "      <td>ENGENHARIAS I</td>\n",
       "    </tr>\n",
       "    <tr>\n",
       "      <th>2</th>\n",
       "      <td>2013</td>\n",
       "      <td>TESE</td>\n",
       "      <td>HIPERPLASIA DE CÉLULAS NEUROENDRÓCRINAS EM LAC...</td>\n",
       "      <td>A HIPERPLASIA DE CÉLULAS NEUROENDÓCRINAS DO LA...</td>\n",
       "      <td>1. DOENÇAS PULMONARES INTERSTICIAIS  RADIOGRA...</td>\n",
       "      <td>NEUROENDOCRINE CELL HYPERPLASIA OF INFANCY (NE...</td>\n",
       "      <td>NÃO INFORMADO</td>\n",
       "      <td>MEDICINA II</td>\n",
       "    </tr>\n",
       "    <tr>\n",
       "      <th>3</th>\n",
       "      <td>2013</td>\n",
       "      <td>TESE</td>\n",
       "      <td>AVALIAÇÃO ATRAVÉS DAS TÉCNICAS AVANÇADAS DE RM...</td>\n",
       "      <td>ESTUDOS RECENTES TEM DEMONSTRADO ALTERAÇÕES DA...</td>\n",
       "      <td>1. NEURALGIA DO TRIGÊMEO - FISIOPATOLOGIA. 2. ...</td>\n",
       "      <td>RECENT STUDIES HAVE DETECTED LOCAL CHANGES OF ...</td>\n",
       "      <td>NÃO INFORMADO</td>\n",
       "      <td>MEDICINA II</td>\n",
       "    </tr>\n",
       "    <tr>\n",
       "      <th>4</th>\n",
       "      <td>2013</td>\n",
       "      <td>DISSERTAÇÃO</td>\n",
       "      <td>NaN</td>\n",
       "      <td>DENTRE AS TÉCNICAS MAIS UTILIZADAS NA DETERMIN...</td>\n",
       "      <td>PLATAFORMAS FIXAS, ESTRUTURAS OFFSHORE, ESTRUT...</td>\n",
       "      <td>NÃO INFORMADO</td>\n",
       "      <td>NÃO INFORMADO</td>\n",
       "      <td>ENGENHARIAS I</td>\n",
       "    </tr>\n",
       "  </tbody>\n",
       "</table>\n",
       "</div>"
      ],
      "text/plain": [
       "   AN_BASE NM_SUBTIPO_PRODUCAO  \\\n",
       "0     2013         DISSERTAÇÃO   \n",
       "1     2013         DISSERTAÇÃO   \n",
       "2     2013                TESE   \n",
       "3     2013                TESE   \n",
       "4     2013         DISSERTAÇÃO   \n",
       "\n",
       "                                          NM_PROJETO  \\\n",
       "0                                                NaN   \n",
       "1                                                NaN   \n",
       "2  HIPERPLASIA DE CÉLULAS NEUROENDRÓCRINAS EM LAC...   \n",
       "3  AVALIAÇÃO ATRAVÉS DAS TÉCNICAS AVANÇADAS DE RM...   \n",
       "4                                                NaN   \n",
       "\n",
       "                                           DS_RESUMO  \\\n",
       "0  A POSSIBILIDADE DA OCORRÊNCIA DE SISMOS NO BRA...   \n",
       "1  AS OBRAS DE PONTES ESTAIADAS ENVOLVEM UMA TECN...   \n",
       "2  A HIPERPLASIA DE CÉLULAS NEUROENDÓCRINAS DO LA...   \n",
       "3  ESTUDOS RECENTES TEM DEMONSTRADO ALTERAÇÕES DA...   \n",
       "4  DENTRE AS TÉCNICAS MAIS UTILIZADAS NA DETERMIN...   \n",
       "\n",
       "                                    DS_PALAVRA_CHAVE  \\\n",
       "0  ANÁLISE SÍSMICA, CONCRETO ARMADO, DETALHAMENTO...   \n",
       "1  PONTE ESTAIADA. PONTE DO SABER. ANÁLISE ESTRUT...   \n",
       "2  1. DOENÇAS PULMONARES INTERSTICIAIS  RADIOGRA...   \n",
       "3  1. NEURALGIA DO TRIGÊMEO - FISIOPATOLOGIA. 2. ...   \n",
       "4  PLATAFORMAS FIXAS, ESTRUTURAS OFFSHORE, ESTRUT...   \n",
       "\n",
       "                                         DS_ABSTRACT     DS_KEYWORD  \\\n",
       "0                                      NÃO INFORMADO  NÃO INFORMADO   \n",
       "1                                      NÃO INFORMADO  NÃO INFORMADO   \n",
       "2  NEUROENDOCRINE CELL HYPERPLASIA OF INFANCY (NE...  NÃO INFORMADO   \n",
       "3  RECENT STUDIES HAVE DETECTED LOCAL CHANGES OF ...  NÃO INFORMADO   \n",
       "4                                      NÃO INFORMADO  NÃO INFORMADO   \n",
       "\n",
       "  NM_AREA_AVALIACAO  \n",
       "0     ENGENHARIAS I  \n",
       "1     ENGENHARIAS I  \n",
       "2       MEDICINA II  \n",
       "3       MEDICINA II  \n",
       "4     ENGENHARIAS I  "
      ]
     },
     "execution_count": 35,
     "metadata": {},
     "output_type": "execute_result"
    }
   ],
   "source": [
    "df_processed.head()"
   ]
  },
  {
   "cell_type": "code",
   "execution_count": 36,
   "metadata": {},
   "outputs": [],
   "source": [
    "df_processed.columns = df_processed.columns.str.slice(3).str.lower()\n",
    "df_processed.rename(columns={\n",
    "    'base': 'ano'\n",
    "}, inplace=True)\n",
    "\n",
    "for item in list(df_processed.iloc[:, 1:].columns):\n",
    "    df_processed[f'{item}'] = df_processed[f'{item}'].str.lower()"
   ]
  },
  {
   "cell_type": "code",
   "execution_count": 37,
   "metadata": {},
   "outputs": [
    {
     "data": {
      "text/plain": [
       "ano                     0\n",
       "subtipo_producao        0\n",
       "projeto             22280\n",
       "resumo                  0\n",
       "palavra_chave           0\n",
       "abstract                7\n",
       "keyword                 0\n",
       "area_avaliacao          0\n",
       "dtype: int64"
      ]
     },
     "execution_count": 37,
     "metadata": {},
     "output_type": "execute_result"
    }
   ],
   "source": [
    "df_processed.isna().sum()"
   ]
  },
  {
   "cell_type": "code",
   "execution_count": 38,
   "metadata": {},
   "outputs": [],
   "source": [
    "df_processed.dropna(subset=['abstract'], inplace=True)\n",
    "\n",
    "df_processed.fillna({ 'projeto': 'não informado' }, inplace=True)\n",
    "\n",
    "# df_processed.drop(index=df_processed[\n",
    "#     df_processed.resumo.str.contains(\"não informado\") | df_processed.palavra_chave.str.contains(\"não informado\") | \n",
    "#     df_processed.abstract.str.contains(\"não informado\") | df_processed.keyword.str.contains(\"não informado\") | \n",
    "#     df_processed.grande_area_conhecimento.str.contains(\"não informado\")\n",
    "# ].index, inplace=True)\n",
    "# df_processed.reset_index(drop=True, inplace=True)"
   ]
  },
  {
   "cell_type": "code",
   "execution_count": 39,
   "metadata": {},
   "outputs": [],
   "source": [
    "idx = df_processed[(df_processed.palavra_chave == df_processed.keyword) | (df_processed.resumo == df_processed.abstract)].index\n",
    "df_processed.drop(index=idx, inplace=True)"
   ]
  },
  {
   "cell_type": "code",
   "execution_count": 40,
   "metadata": {},
   "outputs": [],
   "source": [
    "for item in ['resumo', 'abstract']:\n",
    "    df_processed[f'{item}'].replace(to_replace ='[0-9]+', value = '', regex = True, inplace=True)\n",
    "    df_processed[f'{item}'].replace(to_replace ='[,.:;!?]+', value = '', regex = True, inplace=True)\n",
    "    df_processed[f'{item}'].replace(to_replace ='[/<>()|\\+\\-\\$%&#@\\'\\\"]+', value = '', regex = True, inplace=True)\n",
    "    df_processed[f'{item}'].replace(to_replace ='\\W+', value = ' ', regex = True, inplace=True)"
   ]
  },
  {
   "cell_type": "code",
   "execution_count": 41,
   "metadata": {},
   "outputs": [],
   "source": [
    "for item in ['palavra_chave', 'keyword']:\n",
    "    df_processed[f'{item}'].replace(to_replace ='([0-9][. ])', value = ',', regex = True, inplace=True)\n",
    "    df_processed[f'{item}'].replace(to_replace ='([;])+', value = ',', regex = True, inplace=True)\n",
    "    df_processed[f'{item}'].replace(to_replace ='([.])+', value = ',', regex = True, inplace=True)\n",
    "    df_processed[f'{item}'].replace(to_replace ='(  )+', value = ' ', regex = True, inplace=True)\n",
    "    df_processed[f'{item}'].replace(to_replace ='\\W+', value = ' ', regex = True, inplace=True)\n",
    "    df_processed[f'{item}'] = df_processed[f'{item}'].str.lstrip(', ')"
   ]
  },
  {
   "cell_type": "code",
   "execution_count": 42,
   "metadata": {},
   "outputs": [
    {
     "data": {
      "text/html": [
       "<div>\n",
       "<style scoped>\n",
       "    .dataframe tbody tr th:only-of-type {\n",
       "        vertical-align: middle;\n",
       "    }\n",
       "\n",
       "    .dataframe tbody tr th {\n",
       "        vertical-align: top;\n",
       "    }\n",
       "\n",
       "    .dataframe thead th {\n",
       "        text-align: right;\n",
       "    }\n",
       "</style>\n",
       "<table border=\"1\" class=\"dataframe\">\n",
       "  <thead>\n",
       "    <tr style=\"text-align: right;\">\n",
       "      <th></th>\n",
       "      <th>ano</th>\n",
       "      <th>subtipo_producao</th>\n",
       "      <th>projeto</th>\n",
       "      <th>resumo</th>\n",
       "      <th>palavra_chave</th>\n",
       "      <th>abstract</th>\n",
       "      <th>keyword</th>\n",
       "      <th>area_avaliacao</th>\n",
       "    </tr>\n",
       "  </thead>\n",
       "  <tbody>\n",
       "    <tr>\n",
       "      <th>0</th>\n",
       "      <td>2013</td>\n",
       "      <td>dissertação</td>\n",
       "      <td>não informado</td>\n",
       "      <td>a possibilidade da ocorrência de sismos no bra...</td>\n",
       "      <td>análise sísmica concreto armado detalhamento s...</td>\n",
       "      <td>não informado</td>\n",
       "      <td>não informado</td>\n",
       "      <td>engenharias i</td>\n",
       "    </tr>\n",
       "    <tr>\n",
       "      <th>1</th>\n",
       "      <td>2013</td>\n",
       "      <td>dissertação</td>\n",
       "      <td>não informado</td>\n",
       "      <td>as obras de pontes estaiadas envolvem uma tecn...</td>\n",
       "      <td>ponte estaiada ponte do saber análise estrutur...</td>\n",
       "      <td>não informado</td>\n",
       "      <td>não informado</td>\n",
       "      <td>engenharias i</td>\n",
       "    </tr>\n",
       "    <tr>\n",
       "      <th>2</th>\n",
       "      <td>2013</td>\n",
       "      <td>tese</td>\n",
       "      <td>hiperplasia de células neuroendrócrinas em lac...</td>\n",
       "      <td>a hiperplasia de células neuroendócrinas do la...</td>\n",
       "      <td>doenças pulmonares intersticiais radiografia d...</td>\n",
       "      <td>neuroendocrine cell hyperplasia of infancy neh...</td>\n",
       "      <td>não informado</td>\n",
       "      <td>medicina ii</td>\n",
       "    </tr>\n",
       "    <tr>\n",
       "      <th>3</th>\n",
       "      <td>2013</td>\n",
       "      <td>tese</td>\n",
       "      <td>avaliação através das técnicas avançadas de rm...</td>\n",
       "      <td>estudos recentes tem demonstrado alterações da...</td>\n",
       "      <td>neuralgia do trigêmeo fisiopatologia neuralgia...</td>\n",
       "      <td>recent studies have detected local changes of ...</td>\n",
       "      <td>não informado</td>\n",
       "      <td>medicina ii</td>\n",
       "    </tr>\n",
       "    <tr>\n",
       "      <th>4</th>\n",
       "      <td>2013</td>\n",
       "      <td>dissertação</td>\n",
       "      <td>não informado</td>\n",
       "      <td>dentre as técnicas mais utilizadas na determin...</td>\n",
       "      <td>plataformas fixas estruturas offshore estrutur...</td>\n",
       "      <td>não informado</td>\n",
       "      <td>não informado</td>\n",
       "      <td>engenharias i</td>\n",
       "    </tr>\n",
       "  </tbody>\n",
       "</table>\n",
       "</div>"
      ],
      "text/plain": [
       "    ano subtipo_producao                                            projeto  \\\n",
       "0  2013      dissertação                                      não informado   \n",
       "1  2013      dissertação                                      não informado   \n",
       "2  2013             tese  hiperplasia de células neuroendrócrinas em lac...   \n",
       "3  2013             tese  avaliação através das técnicas avançadas de rm...   \n",
       "4  2013      dissertação                                      não informado   \n",
       "\n",
       "                                              resumo  \\\n",
       "0  a possibilidade da ocorrência de sismos no bra...   \n",
       "1  as obras de pontes estaiadas envolvem uma tecn...   \n",
       "2  a hiperplasia de células neuroendócrinas do la...   \n",
       "3  estudos recentes tem demonstrado alterações da...   \n",
       "4  dentre as técnicas mais utilizadas na determin...   \n",
       "\n",
       "                                       palavra_chave  \\\n",
       "0  análise sísmica concreto armado detalhamento s...   \n",
       "1  ponte estaiada ponte do saber análise estrutur...   \n",
       "2  doenças pulmonares intersticiais radiografia d...   \n",
       "3  neuralgia do trigêmeo fisiopatologia neuralgia...   \n",
       "4  plataformas fixas estruturas offshore estrutur...   \n",
       "\n",
       "                                            abstract        keyword  \\\n",
       "0                                      não informado  não informado   \n",
       "1                                      não informado  não informado   \n",
       "2  neuroendocrine cell hyperplasia of infancy neh...  não informado   \n",
       "3  recent studies have detected local changes of ...  não informado   \n",
       "4                                      não informado  não informado   \n",
       "\n",
       "  area_avaliacao  \n",
       "0  engenharias i  \n",
       "1  engenharias i  \n",
       "2    medicina ii  \n",
       "3    medicina ii  \n",
       "4  engenharias i  "
      ]
     },
     "execution_count": 42,
     "metadata": {},
     "output_type": "execute_result"
    }
   ],
   "source": [
    "df_processed.head()"
   ]
  },
  {
   "attachments": {},
   "cell_type": "markdown",
   "metadata": {},
   "source": [
    "## Testes"
   ]
  },
  {
   "cell_type": "code",
   "execution_count": 43,
   "metadata": {},
   "outputs": [],
   "source": [
    "test = df_processed.resumo.copy().head(1000)"
   ]
  },
  {
   "cell_type": "code",
   "execution_count": 45,
   "metadata": {},
   "outputs": [],
   "source": [
    "def remove_stopwords(text: str) -> str:\n",
    "    text = wordpunct_tokenize(text)\n",
    "    stop_words = set(stopwords.words('portuguese'))\n",
    "    new_text = [item for item in text if item not in stop_words]\n",
    "    return \" \".join(new_text)"
   ]
  },
  {
   "cell_type": "code",
   "execution_count": 46,
   "metadata": {},
   "outputs": [
    {
     "name": "stderr",
     "output_type": "stream",
     "text": [
      "my bar!: 100%|██████████| 1000/1000 [00:00<00:00, 6330.79it/s]\n"
     ]
    }
   ],
   "source": [
    "test = test.progress_apply(remove_stopwords)"
   ]
  },
  {
   "cell_type": "code",
   "execution_count": 47,
   "metadata": {},
   "outputs": [],
   "source": [
    "def lc_stem(text: str) -> str:\n",
    "    stemmer = LancasterStemmer()\n",
    "    words = [stemmer.stem(w) for w in wordpunct_tokenize(text)]\n",
    "    return \" \".join(words)"
   ]
  },
  {
   "cell_type": "code",
   "execution_count": 48,
   "metadata": {},
   "outputs": [],
   "source": [
    "def spc_lem(text: str) -> str:\n",
    "    words = [token.lemma_ for token in nlp(text) if token.pos_ != 'PUNCT']\n",
    "    return \" \".join(words)"
   ]
  },
  {
   "cell_type": "code",
   "execution_count": 49,
   "metadata": {},
   "outputs": [
    {
     "name": "stderr",
     "output_type": "stream",
     "text": [
      "my bar!: 100%|██████████| 1000/1000 [00:01<00:00, 984.85it/s]\n"
     ]
    },
    {
     "data": {
      "text/plain": [
       "0       possibilidad ocorrênc sismo brasil possam comp...\n",
       "1       obra pont estaiada envolvem tecnolog diferenci...\n",
       "2       hiperplas células neuroendócrina lact hcnel do...\n",
       "3       estudo rec demonstrado alteraçõ substância bra...\n",
       "4       dent técnicas utilizada determinação capacidad...\n",
       "                              ...                        \n",
       "1461    campo preservação audiov pass tempo pres perío...\n",
       "1462    modelo saúd buc atualidad mantém focado atençã...\n",
       "1463    sistem saúd vem transformando pressionado muda...\n",
       "1464    alt demand pessoa situaçõ urg procuram serviço...\n",
       "1467    pres trabalho objetivo compreend naturez front...\n",
       "Name: resumo, Length: 1000, dtype: object"
      ]
     },
     "execution_count": 49,
     "metadata": {},
     "output_type": "execute_result"
    }
   ],
   "source": [
    "test.progress_apply(lc_stem)"
   ]
  },
  {
   "cell_type": "code",
   "execution_count": 50,
   "metadata": {},
   "outputs": [
    {
     "name": "stderr",
     "output_type": "stream",
     "text": [
      "my bar!: 100%|██████████| 1000/1000 [00:20<00:00, 47.82it/s]\n"
     ]
    },
    {
     "data": {
      "text/plain": [
       "0       possibilidade ocorrência sismo Brasil poder co...\n",
       "1       obra ponte estaiado envolver tecnologia difere...\n",
       "2       hiperplasio célula neuroendócrino lactente hcn...\n",
       "3       estudo recente demonstrar alteração substância...\n",
       "4       dentre técnica utilizar determinação capacidad...\n",
       "                              ...                        \n",
       "1461    Campo preservação audiovisual passar tempo pre...\n",
       "1462    modelo saúde bucal Atualidade manter focar ate...\n",
       "1463    sistema saúde vir transformar pressionar mudan...\n",
       "1464    alto demandar pessoa situação urgente procurar...\n",
       "1467    presente trabalho objetivo compreender naturez...\n",
       "Name: resumo, Length: 1000, dtype: object"
      ]
     },
     "execution_count": 50,
     "metadata": {},
     "output_type": "execute_result"
    }
   ],
   "source": [
    "test.progress_apply(spc_lem)"
   ]
  }
 ],
 "metadata": {
  "kernelspec": {
   "display_name": "cluster_capes_venv",
   "language": "python",
   "name": "python3"
  },
  "language_info": {
   "codemirror_mode": {
    "name": "ipython",
    "version": 3
   },
   "file_extension": ".py",
   "mimetype": "text/x-python",
   "name": "python",
   "nbconvert_exporter": "python",
   "pygments_lexer": "ipython3",
   "version": "3.11.0"
  },
  "orig_nbformat": 4,
  "vscode": {
   "interpreter": {
    "hash": "0d4c46c82f51ef28f5eab6816ca9e5cac0bb774198226a09b584f8bcd34ab895"
   }
  }
 },
 "nbformat": 4,
 "nbformat_minor": 2
}
