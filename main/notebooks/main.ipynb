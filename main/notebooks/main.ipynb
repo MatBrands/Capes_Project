{
 "cells": [
  {
   "cell_type": "code",
   "execution_count": 2,
   "metadata": {},
   "outputs": [],
   "source": [
    "import numpy as np\n",
    "import pandas as pd\n",
    "import re\n",
    "from unidecode import unidecode\n",
    "from nltk.corpus import stopwords\n",
    "from nltk.tokenize import wordpunct_tokenize\n",
    "from nltk.stem.lancaster import LancasterStemmer"
   ]
  },
  {
   "cell_type": "code",
   "execution_count": 3,
   "metadata": {},
   "outputs": [],
   "source": [
    "# import nltk\n",
    "# nltk.download('stopwords')"
   ]
  },
  {
   "cell_type": "code",
   "execution_count": 4,
   "metadata": {},
   "outputs": [],
   "source": [
    "matrix = pd.read_parquet('../datasets/processed/frequency_matrix_2013.parquet')"
   ]
  },
  {
   "cell_type": "code",
   "execution_count": 5,
   "metadata": {},
   "outputs": [],
   "source": [
    "def remove_stopwords(text: str) -> str:\n",
    "    stop_words = set(stopwords.words('portuguese'))\n",
    "    new_text = [item for item in wordpunct_tokenize(text) if item not in stop_words]\n",
    "    return \" \".join(new_text)"
   ]
  },
  {
   "cell_type": "code",
   "execution_count": 6,
   "metadata": {},
   "outputs": [],
   "source": [
    "def lc_stem(text: str) -> str:\n",
    "    stemmer = LancasterStemmer()\n",
    "    words = [stemmer.stem(word) for word in wordpunct_tokenize(text)]\n",
    "    return \" \".join(words)"
   ]
  },
  {
   "cell_type": "code",
   "execution_count": 7,
   "metadata": {},
   "outputs": [],
   "source": [
    "resumo = 'Este trabalho foi desenvolvido utilizando as tecnologias Python, Pandas, Numpy, NLTK, Unidecode e LancasterStemmer. O objetivo é realizar a limpeza de um texto, removendo stopwords, pontuações e acentuações, além de realizar a redução de palavras para sua forma raiz. O texto utilizado para teste foi o resumo deste trabalho. nitrosilo complexo rutenio'"
   ]
  },
  {
   "cell_type": "code",
   "execution_count": 8,
   "metadata": {},
   "outputs": [],
   "source": [
    "resumo = resumo.lower()"
   ]
  },
  {
   "cell_type": "code",
   "execution_count": 9,
   "metadata": {},
   "outputs": [],
   "source": [
    "resumo = re.sub(r'[^a-zA-Z0-9\\s]+', '', resumo)"
   ]
  },
  {
   "cell_type": "code",
   "execution_count": 10,
   "metadata": {},
   "outputs": [],
   "source": [
    "resumo = remove_stopwords(resumo)\n",
    "resumo = lc_stem(resumo)\n",
    "resumo = unidecode(resumo)\n",
    "\n",
    "del remove_stopwords, lc_stem"
   ]
  },
  {
   "cell_type": "code",
   "execution_count": 11,
   "metadata": {},
   "outputs": [
    {
     "data": {
      "text/plain": [
       "'trabalho desenvolvido utilizando tecnologia python panda numpy nltk unidecod lancasterstem objetivo realiz limpez texto removendo stopword pontua acentua alm realiz reduo palavra form raiz texto utilizado test resumo dest trabalho nitrosilo complexo rutenio'"
      ]
     },
     "execution_count": 11,
     "metadata": {},
     "output_type": "execute_result"
    }
   ],
   "source": [
    "resumo"
   ]
  },
  {
   "cell_type": "code",
   "execution_count": 12,
   "metadata": {},
   "outputs": [],
   "source": [
    "def verify_concat(i: int, item: str, text: str) -> str:\n",
    "    elements = wordpunct_tokenize(text)[i:]\n",
    "    \n",
    "    if len(elements) > 1:\n",
    "        test_1 = item + ' ' + elements[1]\n",
    "        test_2 = item  + elements[1]\n",
    "    else:\n",
    "        return i, item\n",
    "    \n",
    "    if test_1 in matrix.palavra_chave.values:\n",
    "        return verify_concat(i+1, test_1, text)\n",
    "    if test_2 in matrix.palavra_chave.values:\n",
    "        return verify_concat(i+1, test_2, text)\n",
    "    else:\n",
    "        return i, item\n",
    "\n",
    "def get_keywords(text: str) -> list:\n",
    "    result = []\n",
    "    i = 0\n",
    "    elements = wordpunct_tokenize(text)\n",
    "    while i < len(elements):\n",
    "        item = elements[i]\n",
    "        if item in matrix.palavra_chave.values:\n",
    "            i, item = verify_concat(i, item, text)\n",
    "            result.append(item)\n",
    "        i+=1\n",
    "    return result"
   ]
  },
  {
   "cell_type": "code",
   "execution_count": 25,
   "metadata": {},
   "outputs": [
    {
     "data": {
      "text/plain": [
       "['texto',\n",
       " 'utilizando',\n",
       " 'nltk',\n",
       " 'test',\n",
       " 'nitrosilo complexo rutenio',\n",
       " 'limpez',\n",
       " 'palavra',\n",
       " 'raiz',\n",
       " 'python',\n",
       " 'objetivo',\n",
       " 'alm',\n",
       " 'tecnologia',\n",
       " 'resumo',\n",
       " 'form',\n",
       " 'trabalho']"
      ]
     },
     "execution_count": 25,
     "metadata": {},
     "output_type": "execute_result"
    }
   ],
   "source": [
    "result = list(set(get_keywords(resumo)))\n",
    "result"
   ]
  },
  {
   "cell_type": "code",
   "execution_count": 27,
   "metadata": {},
   "outputs": [
    {
     "data": {
      "text/plain": [
       "20023"
      ]
     },
     "execution_count": 27,
     "metadata": {},
     "output_type": "execute_result"
    }
   ],
   "source": [
    "# matrix[matrix.palavra_chave.str.fullmatch(result[0])].sort_values(by='frequencia', ascending=False)\n",
    "matrix[matrix.palavra_chave.str.fullmatch(result[0])].frequencia.sum()"
   ]
  },
  {
   "cell_type": "code",
   "execution_count": 29,
   "metadata": {},
   "outputs": [
    {
     "name": "stdout",
     "output_type": "stream",
     "text": [
      "texto: 0.0004344467049019401\n",
      "utilizando: 0.0002659665239318774\n",
      "nltk: 4.3394766508708993e-08\n",
      "test: 0.0006401812929197295\n",
      "nitrosilo complexo rutenio: 3.6885551532402644e-07\n",
      "limpez: 1.0544928261616285e-05\n",
      "palavra: 6.162056844236677e-05\n",
      "raiz: 2.759907149953892e-05\n",
      "python: 3.4715813206967195e-07\n",
      "objetivo: 0.0009714786378304682\n",
      "alm: 0.000552567259338646\n",
      "tecnologia: 7.871810644679811e-05\n",
      "resumo: 2.7946229631608592e-05\n",
      "form: 0.0023989277847511962\n",
      "trabalho: 0.0012835737985611034\n"
     ]
    }
   ],
   "source": [
    "frequency_general = matrix.frequencia.sum()\n",
    "for item in result:\n",
    "    this_frequency = matrix[matrix.palavra_chave.str.fullmatch(item)].frequencia.sum()\n",
    "    print(f'{item}: {this_frequency/frequency_general}')"
   ]
  },
  {
   "cell_type": "code",
   "execution_count": 34,
   "metadata": {},
   "outputs": [],
   "source": [
    "subarea_groupped = matrix.groupby('subarea').frequencia.sum().sort_values(ascending=False).reset_index()"
   ]
  },
  {
   "cell_type": "code",
   "execution_count": 56,
   "metadata": {},
   "outputs": [
    {
     "name": "stdout",
     "output_type": "stream",
     "text": [
      "texto: linguística e literatura - 0.0022056152369090247\n",
      "\n",
      "utilizando: química - 0.0007176777644514405\n",
      "\n",
      "nltk: linguística e literatura - 1.0591189613008524e-06\n",
      "\n",
      "test: educação física - 0.002297859121959878\n",
      "\n",
      "nitrosilo complexo rutenio: ciências ambientais - 5.564107795315021e-06\n",
      "\n",
      "limpez: geografia - 7.642830421683112e-05\n",
      "\n",
      "palavra: linguística e literatura - 0.0002022917216084628\n",
      "\n",
      "raiz: ciências agrárias i - 0.00019929185401145797\n",
      "\n",
      "python: ciência da computação - 4.810994083680026e-06\n",
      "\n",
      "objetivo: educação física - 0.0013770513627677484\n",
      "\n",
      "alm: ciências biológicas ii - 0.0009491128115669826\n",
      "\n",
      "tecnologia: ensino - 0.00035947116656096504\n",
      "\n",
      "resumo: zootecnia / recursos pesqueiros - 0.00013288488041870818\n",
      "\n",
      "form: comunicação e informação - 0.00538162865537988\n",
      "\n",
      "trabalho: matemática / probabilidade e estatística - 0.0034520993163137505\n",
      "\n"
     ]
    }
   ],
   "source": [
    "for item in result:\n",
    "    words_frequency = matrix[matrix.palavra_chave.str.fullmatch(item)].sort_values(by='frequencia', ascending=False).loc[:, ['subarea', 'frequencia']].copy()\n",
    "    matrix_corr = words_frequency.join(subarea_groupped.set_index('subarea'), on='subarea', how='left', lsuffix='_this_word', rsuffix='_all_groupped')\n",
    "    matrix_corr['corr'] = matrix_corr.frequencia_this_word / matrix_corr.frequencia_all_groupped\n",
    "    corr = matrix_corr.sort_values(by='corr', ascending=False).reset_index(drop=True).loc[0, ['subarea', 'corr']]\n",
    "    print(f'{item}: {corr[0]} - {corr[1]}', end='\\n\\n')"
   ]
  }
 ],
 "metadata": {
  "kernelspec": {
   "display_name": "cluster_capes_venv",
   "language": "python",
   "name": "python3"
  },
  "language_info": {
   "codemirror_mode": {
    "name": "ipython",
    "version": 3
   },
   "file_extension": ".py",
   "mimetype": "text/x-python",
   "name": "python",
   "nbconvert_exporter": "python",
   "pygments_lexer": "ipython3",
   "version": "3.11.0"
  },
  "orig_nbformat": 4
 },
 "nbformat": 4,
 "nbformat_minor": 2
}
