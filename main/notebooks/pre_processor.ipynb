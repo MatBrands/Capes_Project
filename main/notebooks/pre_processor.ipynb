{
 "cells": [
  {
   "cell_type": "code",
   "execution_count": 37,
   "metadata": {},
   "outputs": [],
   "source": [
    "import pandas as pd\n",
    "import numpy as np\n",
    "import difflib as dl\n",
    "import multiprocessing\n",
    "import nltk\n",
    "# nltk.download('stopwords')\n",
    "from os import cpu_count\n",
    "from unidecode import unidecode\n",
    "from tqdm import tqdm\n",
    "tqdm.pandas(desc=\"my bar!\")\n",
    "from nltk.corpus import stopwords\n",
    "from nltk.tokenize import wordpunct_tokenize\n",
    "from nltk.stem.lancaster import LancasterStemmer"
   ]
  },
  {
   "cell_type": "code",
   "execution_count": 17,
   "metadata": {},
   "outputs": [],
   "source": [
    "year = 2013\n",
    "df = pd.read_csv(f'../datasets/raw/{year}.csv', sep=';', encoding ='latin')\n",
    "df = df[['DS_RESUMO', 'DS_PALAVRA_CHAVE', 'NM_AREA_AVALIACAO']]"
   ]
  },
  {
   "cell_type": "code",
   "execution_count": 18,
   "metadata": {},
   "outputs": [],
   "source": [
    "df.columns = df.columns.str.slice(3).str.lower()\n",
    "df.rename(columns={\n",
    "    'base': 'ano'\n",
    "}, inplace=True)\n",
    "\n",
    "for item in list(df.iloc[:, 0:].columns):\n",
    "    df[f'{item}'] = df[f'{item}'].str.lower()"
   ]
  },
  {
   "cell_type": "code",
   "execution_count": 19,
   "metadata": {},
   "outputs": [],
   "source": [
    "def rename_areas(text: str) -> str:\n",
    "    if text in ['administração pública e de empresas, ciências contábeis e turismo', 'administração, ciências contábeis e turismo']:\n",
    "        return 'administração pública e de empresas, ciências contábeis e turismo'\n",
    "    elif text in ['arquitetura e urbanismo', 'arquitetura, urbanismo e design']:\n",
    "        return 'arquitetura, urbanismo e design'\n",
    "    elif text in 'filosofia/teologia:subcomissão filosofia':\n",
    "        return 'filosofia'\n",
    "    elif text in ['filosofia/teologia:subcomissão teologia', 'teologia']:\n",
    "        return 'ciências da religião e teologia'\n",
    "    elif text in 'letras / linguística':\n",
    "        return 'linguística e literatura'\n",
    "    elif text in 'artes / música':\n",
    "        return 'artes'\n",
    "    elif text in 'ciências sociais aplicadas i':\n",
    "        return 'serviço social'\n",
    "    else:\n",
    "        return text"
   ]
  },
  {
   "cell_type": "code",
   "execution_count": 20,
   "metadata": {},
   "outputs": [],
   "source": [
    "df.area_avaliacao = df.area_avaliacao.apply(rename_areas)\n",
    "del rename_areas"
   ]
  },
  {
   "cell_type": "code",
   "execution_count": 21,
   "metadata": {},
   "outputs": [],
   "source": [
    "colegios_dict = {\n",
    "    'ciências da vida': {\n",
    "        'ciências agrárias': ['ciência de alimentos', 'ciências agrárias i', 'medicina veterinária', 'zootecnia / recursos pesqueiros'],\n",
    "        'ciências biológicas': ['biodiversidade', 'ciências biológicas i', 'ciências biológicas ii', 'ciências biológicas iii'],\n",
    "        'ciências da saúde': ['educação física', 'enfermagem', 'farmácia', 'medicina i', 'medicina ii', 'medicina iii', 'nutrição', 'odontologia', 'saúde coletiva']\n",
    "    },\n",
    "    'humanidades': {\n",
    "        'ciências humanas': ['antropologia / arqueologia', 'ciência política e relações internacionais', 'ciências da religião e teologia', 'educação', 'filosofia', 'geografia', 'história', 'psicologia', 'sociologia'],\n",
    "        'ciências sociais aplicadas': ['administração pública e de empresas, ciências contábeis e turismo', 'arquitetura, urbanismo e design', 'comunicação e informação', 'direito', 'economia', 'planejamento urbano e regional / demografia', 'serviço social'],\n",
    "        'linguística, letras e artes': ['artes', 'linguística e literatura']\n",
    "    },\n",
    "    'ciências exatas, tecnológicas e multidisciplinar': {\n",
    "        'ciências exatas e da terra': ['astronomia / física', 'ciência da computação', 'geociências', 'matemática / probabilidade e estatística', 'química'],\n",
    "        'engenharias': ['engenharias i', 'engenharias ii', 'engenharias iii', 'engenharias iv'],\n",
    "        'multidisciplinar': ['biotecnologia', 'ciências ambientais', 'ensino', 'interdisciplinar', 'materiais']\n",
    "    }\n",
    "}"
   ]
  },
  {
   "cell_type": "code",
   "execution_count": 22,
   "metadata": {},
   "outputs": [],
   "source": [
    "df['colegios'] = ''\n",
    "df['areas'] = ''\n",
    "df.rename(columns={'area_avaliacao': 'subareas'}, inplace=True)\n",
    "\n",
    "for colegios, areas in colegios_dict.items():\n",
    "    for areas, subareas in areas.items():\n",
    "        df.loc[df.subareas.isin(subareas), 'colegios'] = colegios\n",
    "        df.loc[df.subareas.isin(subareas), 'areas'] = areas\n",
    "        \n",
    "df = df[['resumo', 'palavra_chave', 'colegios', 'areas', 'subareas']]\n",
    "del colegios_dict"
   ]
  },
  {
   "cell_type": "code",
   "execution_count": 23,
   "metadata": {},
   "outputs": [],
   "source": [
    "df.palavra_chave.replace(to_replace = r'1[.]', value = ';', regex = True, inplace=True)\n",
    "df.palavra_chave.replace(to_replace = r' \\d[.]', value = ';', regex = True, inplace=True)\n",
    "df.palavra_chave.replace(to_replace = r'(\\S{2,})(?:\\.)', value = '\\\\1;', regex=True, inplace=True)\n",
    "df.palavra_chave.replace(to_replace = r'\\b(pt|en)\\b', value = ';', regex = True, inplace=True)\n",
    "df.palavra_chave.replace(to_replace = r' ,|, | [,] | /|/ | [/] ', value = ';', regex = True, inplace=True)\n",
    "df.palavra_chave.replace(to_replace = r' [.] |\\(\\d\\)', value = ';', regex = True, inplace=True)\n",
    "df.palavra_chave.replace(to_replace = r' \\x96 |\\x93', value = ';', regex = True, inplace=True)\n",
    "df.palavra_chave.replace(to_replace = r'[^a-z0-9\\s\\x80-\\xff,.:;?!-]', value = '', regex = True, inplace=True)\n",
    "df.palavra_chave.replace(to_replace = r' - |; | ;|; ;', value = ';', regex = True, inplace=True)\n",
    "df.palavra_chave.replace(to_replace = r';{2,}', value = ';', regex = True, inplace=True)\n",
    "df.palavra_chave.replace(to_replace= r'[\\W_]+$|^[;]+', value='', regex=True, inplace=True)\n",
    "df.palavra_chave.replace(to_replace = r'palavras-chave\\S', value = '', regex = True, inplace=True)\n",
    "df.palavra_chave.replace(to_replace = r'^\\s+|\\s+$|\\x80', value = '', regex = True, inplace=True)\n",
    "df.palavra_chave.replace(to_replace = r'[^\\w\\s;]', value = '', regex = True, inplace=True)"
   ]
  },
  {
   "cell_type": "code",
   "execution_count": 24,
   "metadata": {},
   "outputs": [],
   "source": [
    "df.resumo.replace(to_replace= r'[^a-zA-Z0-9\\s]+', value='', regex=True, inplace=True)"
   ]
  },
  {
   "cell_type": "code",
   "execution_count": 25,
   "metadata": {},
   "outputs": [],
   "source": [
    "def remove_stopwords(text: str) -> str:\n",
    "    stop_words = set(stopwords.words('portuguese'))\n",
    "    new_text = [item for item in wordpunct_tokenize(text) if item not in stop_words]\n",
    "    return \" \".join(new_text)"
   ]
  },
  {
   "cell_type": "code",
   "execution_count": 26,
   "metadata": {},
   "outputs": [],
   "source": [
    "def lc_stem(text: str) -> str:\n",
    "    stemmer = LancasterStemmer()\n",
    "    words = [stemmer.stem(word) for word in wordpunct_tokenize(text)]\n",
    "    return \" \".join(words)"
   ]
  },
  {
   "cell_type": "code",
   "execution_count": 27,
   "metadata": {},
   "outputs": [
    {
     "name": "stderr",
     "output_type": "stream",
     "text": [
      "my bar!: 100%|██████████| 67534/67534 [00:09<00:00, 7074.13it/s]\n",
      "my bar!: 100%|██████████| 67534/67534 [01:03<00:00, 1068.82it/s]\n",
      "my bar!: 100%|██████████| 67534/67534 [00:00<00:00, 1331256.62it/s]\n",
      "my bar!: 100%|██████████| 67534/67534 [00:04<00:00, 16608.12it/s]\n",
      "my bar!: 100%|██████████| 67534/67534 [00:05<00:00, 13152.36it/s]\n",
      "my bar!: 100%|██████████| 67534/67534 [00:00<00:00, 149190.25it/s]\n"
     ]
    }
   ],
   "source": [
    "df.resumo = df.resumo.progress_apply(remove_stopwords).progress_apply(lc_stem).progress_apply(lambda x: unidecode(x))\n",
    "df.palavra_chave = df.palavra_chave.progress_apply(remove_stopwords).progress_apply(lc_stem).progress_apply(lambda x: unidecode(x))\n",
    "df.palavra_chave.replace(to_replace = r' ; ', value = ';', regex = True, inplace=True)\n",
    "del remove_stopwords, lc_stem"
   ]
  },
  {
   "cell_type": "code",
   "execution_count": 28,
   "metadata": {},
   "outputs": [],
   "source": [
    "df.drop(df.query(\"palavra_chave == '' | resumo == ''\").index, inplace=True)\n",
    "df.reset_index(drop=True, inplace=True)"
   ]
  },
  {
   "cell_type": "code",
   "execution_count": 29,
   "metadata": {},
   "outputs": [],
   "source": [
    "key_words = df.palavra_chave.copy()\n",
    "key_words = list(set(';'.join(key_words).split(';')))\n",
    "\n",
    "key_words = [item.replace(r'[^a-zA-Z0-9\\s]+', '') for item in key_words]\n",
    "\n",
    "key_words = [item for item in key_words if 2 < len(item) < 80]\n",
    "key_words = [item for item in key_words if not item.isdigit()]\n",
    "for i, _ in enumerate(key_words):\n",
    "    key_words[i] = key_words[i].strip()\n",
    "\n",
    "key_words = list(set(key_words))"
   ]
  },
  {
   "cell_type": "code",
   "execution_count": 30,
   "metadata": {},
   "outputs": [],
   "source": [
    "test = [item.replace(' ', '') for item in key_words]\n",
    "\n",
    "test = list(set(test))"
   ]
  },
  {
   "cell_type": "code",
   "execution_count": 31,
   "metadata": {},
   "outputs": [
    {
     "data": {
      "text/plain": [
       "108773"
      ]
     },
     "execution_count": 31,
     "metadata": {},
     "output_type": "execute_result"
    }
   ],
   "source": [
    "len(test)"
   ]
  },
  {
   "cell_type": "code",
   "execution_count": 32,
   "metadata": {},
   "outputs": [
    {
     "data": {
      "text/plain": [
       "109190"
      ]
     },
     "execution_count": 32,
     "metadata": {},
     "output_type": "execute_result"
    }
   ],
   "source": [
    "len(key_words)"
   ]
  },
  {
   "cell_type": "code",
   "execution_count": 33,
   "metadata": {},
   "outputs": [],
   "source": [
    "def calculate_similarity_or_pertency(sentence: str, text: str) -> str:\n",
    "    if sentence == '' or text == '':\n",
    "        return False\n",
    "    if sentence in text or text in sentence:\n",
    "        return True\n",
    "    # similaridade = dl.SequenceMatcher(lambda x: x == \" \", sentence, text).real_quick_ratio()\n",
    "    similaridade = dl.SequenceMatcher(lambda x: x == \" \", sentence, text).ratio()\n",
    "    porcentagem = int(similaridade * 100)\n",
    "    if porcentagem > 75:\n",
    "        return True\n",
    "    \n",
    "    return False"
   ]
  },
  {
   "cell_type": "code",
   "execution_count": 34,
   "metadata": {},
   "outputs": [],
   "source": [
    "def apply_similarity(row, character):\n",
    "    chave = calculate_similarity_or_pertency(character, row['palavra_chave'])\n",
    "    resumo = calculate_similarity_or_pertency(character, row['resumo'])\n",
    "    return chave or resumo"
   ]
  },
  {
   "attachments": {},
   "cell_type": "markdown",
   "metadata": {},
   "source": [
    "- 50 palavras_chave = 1m 1.3s\n",
    "- 500 palavras_chave = 9 24.4s\n",
    "- 5000 palavras_chave = 126m 2.3s\n",
    "- 109190 palavras_chave = ?"
   ]
  },
  {
   "cell_type": "code",
   "execution_count": null,
   "metadata": {},
   "outputs": [],
   "source": [
    "def process_character(character):    \n",
    "    cut = df[df.apply(lambda row: apply_similarity(row, character), axis=1)].iloc[:, -5:]\n",
    "    results = []\n",
    "    for subarea in sorted(cut.subareas.unique()):\n",
    "        new_cut = cut[cut.subareas == subarea]\n",
    "        colegio, area = new_cut.colegios.unique()[0], new_cut.areas.unique()[0]\n",
    "        frequencia = new_cut.palavra_chave.str.count(character).sum() + new_cut.resumo.str.count(character).sum()\n",
    "        if frequencia == 0: frequencia = new_cut.subareas.value_counts()[0]\n",
    "        results.append([colegio, area, subarea, character, frequencia])\n",
    "    \n",
    "    return results\n",
    "\n",
    "max_threads = cpu_count()\n",
    "data = []\n",
    "with multiprocessing.Pool(processes=max_threads) as pool:\n",
    "    for result in pool.imap_unordered(process_character, key_words[:50]):\n",
    "        data.extend(result)"
   ]
  },
  {
   "cell_type": "code",
   "execution_count": null,
   "metadata": {},
   "outputs": [],
   "source": [
    "columns_dtype = {\n",
    "    'colegio': 'category',\n",
    "    'area': 'category',\n",
    "    'subarea': 'category',\n",
    "    'palavra_chave': 'category',\n",
    "    'frequencia': 'uint64'\n",
    "}\n",
    "\n",
    "freq = pd.DataFrame(data, columns=columns_dtype.keys()).astype(columns_dtype)"
   ]
  },
  {
   "cell_type": "code",
   "execution_count": null,
   "metadata": {},
   "outputs": [
    {
     "data": {
      "text/html": [
       "<div>\n",
       "<style scoped>\n",
       "    .dataframe tbody tr th:only-of-type {\n",
       "        vertical-align: middle;\n",
       "    }\n",
       "\n",
       "    .dataframe tbody tr th {\n",
       "        vertical-align: top;\n",
       "    }\n",
       "\n",
       "    .dataframe thead th {\n",
       "        text-align: right;\n",
       "    }\n",
       "</style>\n",
       "<table border=\"1\" class=\"dataframe\">\n",
       "  <thead>\n",
       "    <tr style=\"text-align: right;\">\n",
       "      <th></th>\n",
       "      <th>colegio</th>\n",
       "      <th>area</th>\n",
       "      <th>subarea</th>\n",
       "      <th>frequencia</th>\n",
       "    </tr>\n",
       "    <tr>\n",
       "      <th>palavra_chave</th>\n",
       "      <th></th>\n",
       "      <th></th>\n",
       "      <th></th>\n",
       "      <th></th>\n",
       "    </tr>\n",
       "  </thead>\n",
       "  <tbody>\n",
       "    <tr>\n",
       "      <th>stic</th>\n",
       "      <td>humanidades</td>\n",
       "      <td>linguística, letras e artes</td>\n",
       "      <td>linguística e literatura</td>\n",
       "      <td>4477</td>\n",
       "    </tr>\n",
       "    <tr>\n",
       "      <th>desenvolv</th>\n",
       "      <td>humanidades</td>\n",
       "      <td>ciências humanas</td>\n",
       "      <td>educação</td>\n",
       "      <td>4002</td>\n",
       "    </tr>\n",
       "    <tr>\n",
       "      <th>diverso problema pertin class npdificil pres mundo real</th>\n",
       "      <td>humanidades</td>\n",
       "      <td>ciências humanas</td>\n",
       "      <td>educação</td>\n",
       "      <td>3604</td>\n",
       "    </tr>\n",
       "    <tr>\n",
       "      <th>cristianismo heresiolog retoric tertuliano valentinianismo</th>\n",
       "      <td>humanidades</td>\n",
       "      <td>ciências humanas</td>\n",
       "      <td>educação</td>\n",
       "      <td>3587</td>\n",
       "    </tr>\n",
       "    <tr>\n",
       "      <th>sistem renin angiotensin aldosteron remodelamento vascul</th>\n",
       "      <td>humanidades</td>\n",
       "      <td>ciências humanas</td>\n",
       "      <td>educação</td>\n",
       "      <td>3580</td>\n",
       "    </tr>\n",
       "    <tr>\n",
       "      <th>...</th>\n",
       "      <td>...</td>\n",
       "      <td>...</td>\n",
       "      <td>...</td>\n",
       "      <td>...</td>\n",
       "    </tr>\n",
       "    <tr>\n",
       "      <th>naturez luz</th>\n",
       "      <td>humanidades</td>\n",
       "      <td>ciências sociais aplicadas</td>\n",
       "      <td>comunicação e informação</td>\n",
       "      <td>1</td>\n",
       "    </tr>\n",
       "    <tr>\n",
       "      <th>invest perform</th>\n",
       "      <td>humanidades</td>\n",
       "      <td>ciências sociais aplicadas</td>\n",
       "      <td>administração pública e de empresas, ciências ...</td>\n",
       "      <td>1</td>\n",
       "    </tr>\n",
       "    <tr>\n",
       "      <th>naturez luz</th>\n",
       "      <td>ciências da vida</td>\n",
       "      <td>ciências da saúde</td>\n",
       "      <td>nutrição</td>\n",
       "      <td>1</td>\n",
       "    </tr>\n",
       "    <tr>\n",
       "      <th>naturez luz</th>\n",
       "      <td>humanidades</td>\n",
       "      <td>ciências sociais aplicadas</td>\n",
       "      <td>arquitetura, urbanismo e design</td>\n",
       "      <td>1</td>\n",
       "    </tr>\n",
       "    <tr>\n",
       "      <th>conhecimento loc</th>\n",
       "      <td>humanidades</td>\n",
       "      <td>ciências humanas</td>\n",
       "      <td>sociologia</td>\n",
       "      <td>1</td>\n",
       "    </tr>\n",
       "  </tbody>\n",
       "</table>\n",
       "<p>24001 rows × 4 columns</p>\n",
       "</div>"
      ],
      "text/plain": [
       "                                                             colegio   \n",
       "palavra_chave                                                          \n",
       "stic                                                     humanidades  \\\n",
       "desenvolv                                                humanidades   \n",
       "diverso problema pertin class npdificil pres mu...       humanidades   \n",
       "cristianismo heresiolog retoric tertuliano vale...       humanidades   \n",
       "sistem renin angiotensin aldosteron remodelamen...       humanidades   \n",
       "...                                                              ...   \n",
       "naturez luz                                              humanidades   \n",
       "invest perform                                           humanidades   \n",
       "naturez luz                                         ciências da vida   \n",
       "naturez luz                                              humanidades   \n",
       "conhecimento loc                                         humanidades   \n",
       "\n",
       "                                                                           area   \n",
       "palavra_chave                                                                     \n",
       "stic                                                linguística, letras e artes  \\\n",
       "desenvolv                                                      ciências humanas   \n",
       "diverso problema pertin class npdificil pres mu...             ciências humanas   \n",
       "cristianismo heresiolog retoric tertuliano vale...             ciências humanas   \n",
       "sistem renin angiotensin aldosteron remodelamen...             ciências humanas   \n",
       "...                                                                         ...   \n",
       "naturez luz                                          ciências sociais aplicadas   \n",
       "invest perform                                       ciências sociais aplicadas   \n",
       "naturez luz                                                   ciências da saúde   \n",
       "naturez luz                                          ciências sociais aplicadas   \n",
       "conhecimento loc                                               ciências humanas   \n",
       "\n",
       "                                                                                              subarea   \n",
       "palavra_chave                                                                                           \n",
       "stic                                                                         linguística e literatura  \\\n",
       "desenvolv                                                                                    educação   \n",
       "diverso problema pertin class npdificil pres mu...                                           educação   \n",
       "cristianismo heresiolog retoric tertuliano vale...                                           educação   \n",
       "sistem renin angiotensin aldosteron remodelamen...                                           educação   \n",
       "...                                                                                               ...   \n",
       "naturez luz                                                                  comunicação e informação   \n",
       "invest perform                                      administração pública e de empresas, ciências ...   \n",
       "naturez luz                                                                                  nutrição   \n",
       "naturez luz                                                           arquitetura, urbanismo e design   \n",
       "conhecimento loc                                                                           sociologia   \n",
       "\n",
       "                                                    frequencia  \n",
       "palavra_chave                                                   \n",
       "stic                                                      4477  \n",
       "desenvolv                                                 4002  \n",
       "diverso problema pertin class npdificil pres mu...        3604  \n",
       "cristianismo heresiolog retoric tertuliano vale...        3587  \n",
       "sistem renin angiotensin aldosteron remodelamen...        3580  \n",
       "...                                                        ...  \n",
       "naturez luz                                                  1  \n",
       "invest perform                                               1  \n",
       "naturez luz                                                  1  \n",
       "naturez luz                                                  1  \n",
       "conhecimento loc                                             1  \n",
       "\n",
       "[24001 rows x 4 columns]"
      ]
     },
     "execution_count": 278,
     "metadata": {},
     "output_type": "execute_result"
    }
   ],
   "source": [
    "freq.set_index('palavra_chave').sort_index().sort_values('frequencia', ascending=False)"
   ]
  }
 ],
 "metadata": {
  "kernelspec": {
   "display_name": "Python 3 (ipykernel)",
   "language": "python",
   "name": "python3"
  },
  "language_info": {
   "codemirror_mode": {
    "name": "ipython",
    "version": 3
   },
   "file_extension": ".py",
   "mimetype": "text/x-python",
   "name": "python",
   "nbconvert_exporter": "python",
   "pygments_lexer": "ipython3",
   "version": "3.11.3"
  },
  "orig_nbformat": 4
 },
 "nbformat": 4,
 "nbformat_minor": 2
}
