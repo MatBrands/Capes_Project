{
 "cells": [
  {
   "cell_type": "code",
   "execution_count": 1,
   "metadata": {},
   "outputs": [],
   "source": [
    "import pandas as pd\n",
    "import numpy as np\n",
    "import multiprocessing as mp\n",
    "\n",
    "from Levenshtein import ratio\n",
    "from os import cpu_count\n",
    "from unidecode import unidecode\n",
    "from nltk.corpus import stopwords\n",
    "from nltk.tokenize import wordpunct_tokenize\n",
    "from nltk.stem.lancaster import LancasterStemmer"
   ]
  },
  {
   "cell_type": "code",
   "execution_count": 2,
   "metadata": {},
   "outputs": [],
   "source": [
    "# import nltk\n",
    "# nltk.download('stopwords')"
   ]
  },
  {
   "cell_type": "code",
   "execution_count": 3,
   "metadata": {},
   "outputs": [],
   "source": [
    "year = 2013\n",
    "df = pd.read_parquet(f'../datasets/raw/{year}.parquet', engine='pyarrow')\n",
    "df = df[['resumo', 'palavra_chave', 'subareas', 'areas', 'colegios']]"
   ]
  },
  {
   "cell_type": "code",
   "execution_count": 4,
   "metadata": {},
   "outputs": [],
   "source": [
    "df.palavra_chave.replace(to_replace = r'1[.]', value = ';', regex = True, inplace=True)\n",
    "df.palavra_chave.replace(to_replace = r' \\d[.]', value = ';', regex = True, inplace=True)\n",
    "df.palavra_chave.replace(to_replace = r'(\\S{2,})(?:\\.)', value = '\\\\1;', regex=True, inplace=True)\n",
    "df.palavra_chave.replace(to_replace = r'\\b(pt|en)\\b', value = ';', regex = True, inplace=True)\n",
    "df.palavra_chave.replace(to_replace = r' ,|, | [,] | /|/ | [/] ', value = ';', regex = True, inplace=True)\n",
    "df.palavra_chave.replace(to_replace = r' [.] |\\(\\d\\)', value = ';', regex = True, inplace=True)\n",
    "df.palavra_chave.replace(to_replace = r' \\x96 |\\x93', value = ';', regex = True, inplace=True)\n",
    "df.palavra_chave.replace(to_replace = r'[^a-z0-9\\s\\x80-\\xff,.:;?!-]', value = '', regex = True, inplace=True)\n",
    "df.palavra_chave.replace(to_replace = r' - |; | ;|; ;', value = ';', regex = True, inplace=True)\n",
    "df.palavra_chave.replace(to_replace = r';{2,}', value = ';', regex = True, inplace=True)\n",
    "df.palavra_chave.replace(to_replace= r'[\\W_]+$|^[;]+', value='', regex=True, inplace=True)\n",
    "df.palavra_chave.replace(to_replace = r'palavras-chave\\S', value = '', regex = True, inplace=True)\n",
    "df.palavra_chave.replace(to_replace = r'^\\s+|\\s+$|\\x80', value = '', regex = True, inplace=True)\n",
    "df.palavra_chave.replace(to_replace = r'[^\\w\\s;]', value = '', regex = True, inplace=True)"
   ]
  },
  {
   "cell_type": "code",
   "execution_count": 5,
   "metadata": {},
   "outputs": [],
   "source": [
    "df.resumo.replace(to_replace= r'[^a-zA-Z0-9\\s]+', value='', regex=True, inplace=True)"
   ]
  },
  {
   "cell_type": "code",
   "execution_count": 6,
   "metadata": {},
   "outputs": [],
   "source": [
    "def remove_stopwords(text: str) -> str:\n",
    "    stop_words = set(stopwords.words('portuguese'))\n",
    "    new_text = [item for item in wordpunct_tokenize(text) if item not in stop_words]\n",
    "    return \" \".join(new_text)"
   ]
  },
  {
   "cell_type": "code",
   "execution_count": 7,
   "metadata": {},
   "outputs": [],
   "source": [
    "def lc_stem(text: str) -> str:\n",
    "    stemmer = LancasterStemmer()\n",
    "    words = [stemmer.stem(word) for word in wordpunct_tokenize(text)]\n",
    "    return \" \".join(words)"
   ]
  },
  {
   "cell_type": "code",
   "execution_count": 8,
   "metadata": {},
   "outputs": [],
   "source": [
    "df.resumo = df.resumo.apply(remove_stopwords).apply(lc_stem).apply(lambda x: unidecode(x))\n",
    "df.palavra_chave = df.palavra_chave.apply(remove_stopwords).apply(lc_stem).apply(lambda x: unidecode(x))\n",
    "df.palavra_chave.replace(to_replace = r' ; ', value = ';', regex = True, inplace=True)\n",
    "del remove_stopwords, lc_stem"
   ]
  },
  {
   "cell_type": "code",
   "execution_count": 9,
   "metadata": {},
   "outputs": [],
   "source": [
    "df.drop(df.query(\"palavra_chave == '' | resumo == ''\").index, inplace=True)\n",
    "df.reset_index(drop=True, inplace=True)"
   ]
  },
  {
   "cell_type": "code",
   "execution_count": 10,
   "metadata": {},
   "outputs": [
    {
     "data": {
      "text/plain": [
       "109190"
      ]
     },
     "execution_count": 10,
     "metadata": {},
     "output_type": "execute_result"
    }
   ],
   "source": [
    "key_words = df.palavra_chave.copy()\n",
    "key_words = list(set(';'.join(key_words).split(';')))\n",
    "\n",
    "key_words = [item.replace(r'[^a-zA-Z0-9\\s]+', '') for item in key_words]\n",
    "\n",
    "key_words = [item for item in key_words if 2 < len(item) < 80]\n",
    "key_words = [item for item in key_words if not item.isdigit()]\n",
    "for i, _ in enumerate(key_words):\n",
    "    key_words[i] = key_words[i].strip()\n",
    "\n",
    "key_words = list(set(key_words))\n",
    "\n",
    "len(key_words)"
   ]
  },
  {
   "cell_type": "code",
   "execution_count": 11,
   "metadata": {},
   "outputs": [],
   "source": [
    "# df_test_without_space = df.copy()\n",
    "# df_test_without_space.palavra_chave.replace(r' ', '', regex=True, inplace=True)\n",
    "# df_test_without_space.resumo.replace(r' ', '', regex=True, inplace=True)\n",
    "\n",
    "# test_without_space = [item.replace(' ', '') for item in key_words]\n",
    "# test_without_space = list(set(test_without_space))\n",
    "\n",
    "# len(test_without_space)"
   ]
  },
  {
   "cell_type": "code",
   "execution_count": 36,
   "metadata": {},
   "outputs": [],
   "source": [
    "def string_similarity(keyword: str, target: str) -> str:\n",
    "    if keyword == '' or target == '': return False\n",
    "    if keyword in target or target in keyword: return True\n",
    "    \n",
    "    similarity = ratio(keyword, target)*100\n",
    "    \n",
    "    if similarity > 75: return True\n",
    "    \n",
    "    return False"
   ]
  },
  {
   "cell_type": "code",
   "execution_count": 37,
   "metadata": {},
   "outputs": [],
   "source": [
    "def apply_similarity(row, text):\n",
    "    key = string_similarity(text, row['palavra_chave'])\n",
    "    abstract = string_similarity(text, row['resumo'])\n",
    "    return key or abstract"
   ]
  },
  {
   "attachments": {},
   "cell_type": "markdown",
   "metadata": {},
   "source": [
    "- 50 palavras_chave = 1m 1.3s\n",
    "- 500 palavras_chave = 9 24.4s\n",
    "- 5000 palavras_chave = 126m 2.3s\n",
    "- 109190 palavras_chave = ?"
   ]
  },
  {
   "cell_type": "code",
   "execution_count": null,
   "metadata": {},
   "outputs": [],
   "source": [
    "def process_character(keyword):    \n",
    "    cut = df[df.apply(lambda row: apply_similarity(row, keyword), axis=1)]\n",
    "    \n",
    "    results = []\n",
    "    for subarea in sorted(cut.subareas.unique()):\n",
    "        new_cut = cut[cut.subareas == subarea]\n",
    "        colegio, area = new_cut.colegios.unique()[0], new_cut.areas.unique()[0]\n",
    "        frequencia = new_cut.palavra_chave.str.count(keyword).sum() + new_cut.resumo.str.count(keyword).sum()\n",
    "        if not frequencia: frequencia = new_cut.shape[0]\n",
    "        results.append([colegio, area, subarea, keyword, frequencia])\n",
    "    \n",
    "    return results"
   ]
  },
  {
   "cell_type": "code",
   "execution_count": 82,
   "metadata": {},
   "outputs": [],
   "source": [
    "max_threads = cpu_count()\n",
    "data = []\n",
    "with mp.Pool(processes=max_threads) as pool:\n",
    "    for result in pool.imap_unordered(process_character, key_words):\n",
    "        data.extend(result)"
   ]
  },
  {
   "cell_type": "code",
   "execution_count": 83,
   "metadata": {},
   "outputs": [],
   "source": [
    "columns_dtype = {\n",
    "    'colegio': 'category',\n",
    "    'area': 'category',\n",
    "    'subarea': 'category',\n",
    "    'palavra_chave': 'category',\n",
    "    'frequencia': 'uint64'\n",
    "}\n",
    "\n",
    "freq = pd.DataFrame(data, columns=columns_dtype.keys()).astype(columns_dtype)"
   ]
  },
  {
   "cell_type": "code",
   "execution_count": 84,
   "metadata": {},
   "outputs": [
    {
     "data": {
      "text/html": [
       "<div>\n",
       "<style scoped>\n",
       "    .dataframe tbody tr th:only-of-type {\n",
       "        vertical-align: middle;\n",
       "    }\n",
       "\n",
       "    .dataframe tbody tr th {\n",
       "        vertical-align: top;\n",
       "    }\n",
       "\n",
       "    .dataframe thead th {\n",
       "        text-align: right;\n",
       "    }\n",
       "</style>\n",
       "<table border=\"1\" class=\"dataframe\">\n",
       "  <thead>\n",
       "    <tr style=\"text-align: right;\">\n",
       "      <th></th>\n",
       "      <th>colegio</th>\n",
       "      <th>area</th>\n",
       "      <th>subarea</th>\n",
       "      <th>frequencia</th>\n",
       "    </tr>\n",
       "    <tr>\n",
       "      <th>palavra_chave</th>\n",
       "      <th></th>\n",
       "      <th></th>\n",
       "      <th></th>\n",
       "      <th></th>\n",
       "    </tr>\n",
       "  </thead>\n",
       "  <tbody>\n",
       "    <tr>\n",
       "      <th>ent</th>\n",
       "      <td>ciências da vida</td>\n",
       "      <td>ciências agrárias</td>\n",
       "      <td>ciências agrárias i</td>\n",
       "      <td>49386</td>\n",
       "    </tr>\n",
       "    <tr>\n",
       "      <th>ent</th>\n",
       "      <td>humanidades</td>\n",
       "      <td>ciências humanas</td>\n",
       "      <td>educação</td>\n",
       "      <td>42098</td>\n",
       "    </tr>\n",
       "    <tr>\n",
       "      <th>con</th>\n",
       "      <td>humanidades</td>\n",
       "      <td>ciências humanas</td>\n",
       "      <td>educação</td>\n",
       "      <td>35789</td>\n",
       "    </tr>\n",
       "    <tr>\n",
       "      <th>pro</th>\n",
       "      <td>humanidades</td>\n",
       "      <td>ciências humanas</td>\n",
       "      <td>educação</td>\n",
       "      <td>34852</td>\n",
       "    </tr>\n",
       "    <tr>\n",
       "      <th>ent</th>\n",
       "      <td>ciências exatas, tecnológicas e multidisciplinar</td>\n",
       "      <td>multidisciplinar</td>\n",
       "      <td>interdisciplinar</td>\n",
       "      <td>33956</td>\n",
       "    </tr>\n",
       "    <tr>\n",
       "      <th>...</th>\n",
       "      <td>...</td>\n",
       "      <td>...</td>\n",
       "      <td>...</td>\n",
       "      <td>...</td>\n",
       "    </tr>\n",
       "    <tr>\n",
       "      <th>parafas</th>\n",
       "      <td>humanidades</td>\n",
       "      <td>ciências humanas</td>\n",
       "      <td>psicologia</td>\n",
       "      <td>1</td>\n",
       "    </tr>\n",
       "    <tr>\n",
       "      <th>parafas</th>\n",
       "      <td>ciências da vida</td>\n",
       "      <td>ciências da saúde</td>\n",
       "      <td>medicina ii</td>\n",
       "      <td>1</td>\n",
       "    </tr>\n",
       "    <tr>\n",
       "      <th>parafiletico</th>\n",
       "      <td>ciências da vida</td>\n",
       "      <td>ciências biológicas</td>\n",
       "      <td>biodiversidade</td>\n",
       "      <td>1</td>\n",
       "    </tr>\n",
       "    <tr>\n",
       "      <th>parafin</th>\n",
       "      <td>ciências da vida</td>\n",
       "      <td>ciências da saúde</td>\n",
       "      <td>enfermagem</td>\n",
       "      <td>1</td>\n",
       "    </tr>\n",
       "    <tr>\n",
       "      <th>mapeamento</th>\n",
       "      <td>ciências da vida</td>\n",
       "      <td>ciências da saúde</td>\n",
       "      <td>nutrição</td>\n",
       "      <td>1</td>\n",
       "    </tr>\n",
       "  </tbody>\n",
       "</table>\n",
       "<p>643072 rows × 4 columns</p>\n",
       "</div>"
      ],
      "text/plain": [
       "                                                        colegio   \n",
       "palavra_chave                                                     \n",
       "ent                                            ciências da vida  \\\n",
       "ent                                                 humanidades   \n",
       "con                                                 humanidades   \n",
       "pro                                                 humanidades   \n",
       "ent            ciências exatas, tecnológicas e multidisciplinar   \n",
       "...                                                         ...   \n",
       "parafas                                             humanidades   \n",
       "parafas                                        ciências da vida   \n",
       "parafiletico                                   ciências da vida   \n",
       "parafin                                        ciências da vida   \n",
       "mapeamento                                     ciências da vida   \n",
       "\n",
       "                              area              subarea  frequencia  \n",
       "palavra_chave                                                        \n",
       "ent              ciências agrárias  ciências agrárias i       49386  \n",
       "ent               ciências humanas             educação       42098  \n",
       "con               ciências humanas             educação       35789  \n",
       "pro               ciências humanas             educação       34852  \n",
       "ent               multidisciplinar     interdisciplinar       33956  \n",
       "...                            ...                  ...         ...  \n",
       "parafas           ciências humanas           psicologia           1  \n",
       "parafas          ciências da saúde          medicina ii           1  \n",
       "parafiletico   ciências biológicas       biodiversidade           1  \n",
       "parafin          ciências da saúde           enfermagem           1  \n",
       "mapeamento       ciências da saúde             nutrição           1  \n",
       "\n",
       "[643072 rows x 4 columns]"
      ]
     },
     "execution_count": 84,
     "metadata": {},
     "output_type": "execute_result"
    }
   ],
   "source": [
    "freq.set_index('palavra_chave').sort_index().sort_values('frequencia', ascending=False)"
   ]
  },
  {
   "cell_type": "code",
   "execution_count": 85,
   "metadata": {},
   "outputs": [],
   "source": [
    "freq.to_parquet(f'../datasets/processed/frequency_matrix_{year}.parquet', engine='pyarrow')"
   ]
  }
 ],
 "metadata": {
  "kernelspec": {
   "display_name": "Python 3 (ipykernel)",
   "language": "python",
   "name": "python3"
  },
  "language_info": {
   "codemirror_mode": {
    "name": "ipython",
    "version": 3
   },
   "file_extension": ".py",
   "mimetype": "text/x-python",
   "name": "python",
   "nbconvert_exporter": "python",
   "pygments_lexer": "ipython3",
   "version": "3.11.3"
  },
  "orig_nbformat": 4
 },
 "nbformat": 4,
 "nbformat_minor": 2
}
