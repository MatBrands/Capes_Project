{
 "cells": [
  {
   "cell_type": "code",
   "execution_count": 52,
   "metadata": {},
   "outputs": [],
   "source": [
    "import pandas as pd\n",
    "import numpy as np"
   ]
  },
  {
   "cell_type": "code",
   "execution_count": 53,
   "metadata": {},
   "outputs": [],
   "source": [
    "for year in np.arange(2013, 2021):\n",
    "    df = pd.read_csv(f'../datasets/raw/{year}.csv', sep=';', encoding ='latin')\n",
    "    df = df[['AN_BASE', 'NM_PROJETO', 'DS_RESUMO', 'DS_PALAVRA_CHAVE', \n",
    "             'DS_ABSTRACT', 'DS_KEYWORD', 'NM_AREA_AVALIACAO']]\n",
    "    df.columns = df.columns.str.slice(3).str.lower()\n",
    "    df.rename(columns={\n",
    "        'base': 'ano'\n",
    "    }, inplace=True)\n",
    "\n",
    "    df.ano = df.ano.astype('int16')\n",
    "\n",
    "    for item in df.iloc[:, 1:].columns:\n",
    "        df[item] = df[item].str.lower()\n",
    "    df.to_parquet(f'../datasets/raw/{year}.parquet', engine='pyarrow', compression='gzip')"
   ]
  }
 ],
 "metadata": {
  "kernelspec": {
   "display_name": "cluster_capes_venv",
   "language": "python",
   "name": "python3"
  },
  "language_info": {
   "codemirror_mode": {
    "name": "ipython",
    "version": 3
   },
   "file_extension": ".py",
   "mimetype": "text/x-python",
   "name": "python",
   "nbconvert_exporter": "python",
   "pygments_lexer": "ipython3",
   "version": "3.11.3"
  },
  "orig_nbformat": 4
 },
 "nbformat": 4,
 "nbformat_minor": 2
}
