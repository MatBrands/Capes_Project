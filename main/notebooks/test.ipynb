{
 "cells": [
  {
   "cell_type": "code",
   "execution_count": 1,
   "metadata": {},
   "outputs": [],
   "source": [
    "import pandas as pd\n",
    "import numpy as np\n",
    "import difflib\n",
    "import multiprocessing\n",
    "import os\n",
    "# import nltk\n",
    "# import spacy\n",
    "# nltk.download('stopwords')\n",
    "# from tqdm import tqdm\n",
    "# from text_to_num import text2num\n",
    "# from nltk.corpus import stopwords\n",
    "# from nltk.tokenize import wordpunct_tokenize\n",
    "# from nltk.stem.lancaster import LancasterStemmer\n",
    "# tqdm.pandas(desc=\"my bar!\")"
   ]
  },
  {
   "cell_type": "code",
   "execution_count": 2,
   "metadata": {},
   "outputs": [],
   "source": [
    "# try:\n",
    "#     nlp = spacy.load('pt_core_news_lg')\n",
    "# except:\n",
    "#     import os\n",
    "#     os.system('python -m spacy download pt_core_news_lg')\n",
    "#     nlp = spacy.load('pt_core_news_lg')"
   ]
  },
  {
   "cell_type": "code",
   "execution_count": 3,
   "metadata": {},
   "outputs": [],
   "source": [
    "year = 2013\n",
    "df = pd.read_csv(f'../datasets/raw/{year}.csv', sep=';', encoding ='latin')\n",
    "df_processed = df[['DS_RESUMO', 'DS_PALAVRA_CHAVE', 'NM_AREA_AVALIACAO']].copy()"
   ]
  },
  {
   "cell_type": "code",
   "execution_count": 4,
   "metadata": {},
   "outputs": [
    {
     "data": {
      "text/html": [
       "<div>\n",
       "<style scoped>\n",
       "    .dataframe tbody tr th:only-of-type {\n",
       "        vertical-align: middle;\n",
       "    }\n",
       "\n",
       "    .dataframe tbody tr th {\n",
       "        vertical-align: top;\n",
       "    }\n",
       "\n",
       "    .dataframe thead th {\n",
       "        text-align: right;\n",
       "    }\n",
       "</style>\n",
       "<table border=\"1\" class=\"dataframe\">\n",
       "  <thead>\n",
       "    <tr style=\"text-align: right;\">\n",
       "      <th></th>\n",
       "      <th>DS_RESUMO</th>\n",
       "      <th>DS_PALAVRA_CHAVE</th>\n",
       "      <th>NM_AREA_AVALIACAO</th>\n",
       "    </tr>\n",
       "  </thead>\n",
       "  <tbody>\n",
       "    <tr>\n",
       "      <th>0</th>\n",
       "      <td>A POSSIBILIDADE DA OCORRÊNCIA DE SISMOS NO BRA...</td>\n",
       "      <td>ANÁLISE SÍSMICA, CONCRETO ARMADO, DETALHAMENTO...</td>\n",
       "      <td>ENGENHARIAS I</td>\n",
       "    </tr>\n",
       "    <tr>\n",
       "      <th>1</th>\n",
       "      <td>AS OBRAS DE PONTES ESTAIADAS ENVOLVEM UMA TECN...</td>\n",
       "      <td>PONTE ESTAIADA. PONTE DO SABER. ANÁLISE ESTRUT...</td>\n",
       "      <td>ENGENHARIAS I</td>\n",
       "    </tr>\n",
       "    <tr>\n",
       "      <th>2</th>\n",
       "      <td>A HIPERPLASIA DE CÉLULAS NEUROENDÓCRINAS DO LA...</td>\n",
       "      <td>1. DOENÇAS PULMONARES INTERSTICIAIS  RADIOGRA...</td>\n",
       "      <td>MEDICINA II</td>\n",
       "    </tr>\n",
       "    <tr>\n",
       "      <th>3</th>\n",
       "      <td>ESTUDOS RECENTES TEM DEMONSTRADO ALTERAÇÕES DA...</td>\n",
       "      <td>1. NEURALGIA DO TRIGÊMEO - FISIOPATOLOGIA. 2. ...</td>\n",
       "      <td>MEDICINA II</td>\n",
       "    </tr>\n",
       "    <tr>\n",
       "      <th>4</th>\n",
       "      <td>DENTRE AS TÉCNICAS MAIS UTILIZADAS NA DETERMIN...</td>\n",
       "      <td>PLATAFORMAS FIXAS, ESTRUTURAS OFFSHORE, ESTRUT...</td>\n",
       "      <td>ENGENHARIAS I</td>\n",
       "    </tr>\n",
       "  </tbody>\n",
       "</table>\n",
       "</div>"
      ],
      "text/plain": [
       "                                           DS_RESUMO   \n",
       "0  A POSSIBILIDADE DA OCORRÊNCIA DE SISMOS NO BRA...  \\\n",
       "1  AS OBRAS DE PONTES ESTAIADAS ENVOLVEM UMA TECN...   \n",
       "2  A HIPERPLASIA DE CÉLULAS NEUROENDÓCRINAS DO LA...   \n",
       "3  ESTUDOS RECENTES TEM DEMONSTRADO ALTERAÇÕES DA...   \n",
       "4  DENTRE AS TÉCNICAS MAIS UTILIZADAS NA DETERMIN...   \n",
       "\n",
       "                                    DS_PALAVRA_CHAVE NM_AREA_AVALIACAO  \n",
       "0  ANÁLISE SÍSMICA, CONCRETO ARMADO, DETALHAMENTO...     ENGENHARIAS I  \n",
       "1  PONTE ESTAIADA. PONTE DO SABER. ANÁLISE ESTRUT...     ENGENHARIAS I  \n",
       "2  1. DOENÇAS PULMONARES INTERSTICIAIS  RADIOGRA...       MEDICINA II  \n",
       "3  1. NEURALGIA DO TRIGÊMEO - FISIOPATOLOGIA. 2. ...       MEDICINA II  \n",
       "4  PLATAFORMAS FIXAS, ESTRUTURAS OFFSHORE, ESTRUT...     ENGENHARIAS I  "
      ]
     },
     "execution_count": 4,
     "metadata": {},
     "output_type": "execute_result"
    }
   ],
   "source": [
    "df_processed.head()"
   ]
  },
  {
   "cell_type": "code",
   "execution_count": 5,
   "metadata": {},
   "outputs": [],
   "source": [
    "df_processed.columns = df_processed.columns.str.slice(3).str.lower()\n",
    "df_processed.rename(columns={\n",
    "    'base': 'ano'\n",
    "}, inplace=True)\n",
    "\n",
    "for item in list(df_processed.iloc[:, 0:].columns):\n",
    "    df_processed[f'{item}'] = df_processed[f'{item}'].str.lower()"
   ]
  },
  {
   "cell_type": "code",
   "execution_count": 6,
   "metadata": {},
   "outputs": [
    {
     "data": {
      "text/plain": [
       "resumo            0\n",
       "palavra_chave     0\n",
       "area_avaliacao    0\n",
       "dtype: int64"
      ]
     },
     "execution_count": 6,
     "metadata": {},
     "output_type": "execute_result"
    }
   ],
   "source": [
    "df_processed.isna().sum()"
   ]
  },
  {
   "cell_type": "code",
   "execution_count": 7,
   "metadata": {},
   "outputs": [],
   "source": [
    "# df_processed.dropna(subset=['abstract'], inplace=True)\n",
    "\n",
    "# df_processed.fillna({ 'projeto': 'não informado' }, inplace=True)\n",
    "\n",
    "# df_processed.drop(index=df_processed[\n",
    "#     df_processed.resumo.str.contains(\"não informado\") | df_processed.palavra_chave.str.contains(\"não informado\") | \n",
    "#     df_processed.abstract.str.contains(\"não informado\") | df_processed.keyword.str.contains(\"não informado\") | \n",
    "#     df_processed.grande_area_conhecimento.str.contains(\"não informado\")\n",
    "# ].index, inplace=True)\n",
    "# df_processed.reset_index(drop=True, inplace=True)"
   ]
  },
  {
   "cell_type": "code",
   "execution_count": 8,
   "metadata": {},
   "outputs": [],
   "source": [
    "# idx = df_processed[(df_processed.palavra_chave == df_processed.keyword) | (df_processed.resumo == df_processed.abstract) | (df_processed.palavra_chave == df_processed.resumo) | (df_processed.keyword == df_processed.abstract)].index\n",
    "# df_processed.drop(index=idx, inplace=True)\n",
    "# df_processed.reset_index(drop=True, inplace=True)\n",
    "# del idx"
   ]
  },
  {
   "cell_type": "code",
   "execution_count": 9,
   "metadata": {},
   "outputs": [],
   "source": [
    "def rename_areas(text: str) -> str:\n",
    "    if text in ['administração pública e de empresas, ciências contábeis e turismo', 'administração, ciências contábeis e turismo']:\n",
    "        return 'administração pública e de empresas, ciências contábeis e turismo'\n",
    "    elif text in ['arquitetura e urbanismo', 'arquitetura, urbanismo e design']:\n",
    "        return 'arquitetura, urbanismo e design'\n",
    "    elif text in 'filosofia/teologia:subcomissão filosofia':\n",
    "        return 'filosofia'\n",
    "    elif text in ['filosofia/teologia:subcomissão teologia', 'teologia']:\n",
    "        return 'ciências da religião e teologia'\n",
    "    elif text in 'letras / linguística':\n",
    "        return 'linguística e literatura'\n",
    "    elif text in 'artes / música':\n",
    "        return 'artes'\n",
    "    elif text in 'ciências sociais aplicadas i':\n",
    "        return 'serviço social'\n",
    "    else:\n",
    "        return text"
   ]
  },
  {
   "cell_type": "code",
   "execution_count": 10,
   "metadata": {},
   "outputs": [],
   "source": [
    "df_processed.area_avaliacao = df_processed.area_avaliacao.apply(rename_areas)\n",
    "del rename_areas"
   ]
  },
  {
   "cell_type": "code",
   "execution_count": 11,
   "metadata": {},
   "outputs": [],
   "source": [
    "colegios_dict = {\n",
    "    'ciências da vida': {\n",
    "        'ciências agrárias': ['ciência de alimentos', 'ciências agrárias i', 'medicina veterinária', 'zootecnia / recursos pesqueiros'],\n",
    "        'ciências biológicas': ['biodiversidade', 'ciências biológicas i', 'ciências biológicas ii', 'ciências biológicas iii'],\n",
    "        'ciências da saúde': ['educação física', 'enfermagem', 'farmácia', 'medicina i', 'medicina ii', 'medicina iii', 'nutrição', 'odontologia', 'saúde coletiva']\n",
    "    },\n",
    "    'humanidades': {\n",
    "        'ciências humanas': ['antropologia / arqueologia', 'ciência política e relações internacionais', 'ciências da religião e teologia', 'educação', 'filosofia', 'geografia', 'história', 'psicologia', 'sociologia'],\n",
    "        'ciências sociais aplicadas': ['administração pública e de empresas, ciências contábeis e turismo', 'arquitetura, urbanismo e design', 'comunicação e informação', 'direito', 'economia', 'planejamento urbano e regional / demografia', 'serviço social'],\n",
    "        'linguística, letras e artes': ['artes', 'linguística e literatura']\n",
    "    },\n",
    "    'ciências exatas, tecnológicas e multidisciplinar': {\n",
    "        'ciências exatas e da terra': ['astronomia / física', 'ciência da computação', 'geociências', 'matemática / probabilidade e estatística', 'química'],\n",
    "        'engenharias': ['engenharias i', 'engenharias ii', 'engenharias iii', 'engenharias iv'],\n",
    "        'multidisciplinar': ['biotecnologia', 'ciências ambientais', 'ensino', 'interdisciplinar', 'materiais']\n",
    "    }\n",
    "}"
   ]
  },
  {
   "cell_type": "code",
   "execution_count": 12,
   "metadata": {},
   "outputs": [],
   "source": [
    "df_processed['colegios'] = ''\n",
    "df_processed['areas'] = ''\n",
    "df_processed.rename(columns={'area_avaliacao': 'subareas'}, inplace=True)\n",
    "\n",
    "for colegios, areas in colegios_dict.items():\n",
    "    for areas, subareas in areas.items():\n",
    "        df_processed.loc[df_processed.subareas.isin(subareas), 'colegios'] = colegios\n",
    "        df_processed.loc[df_processed.subareas.isin(subareas), 'areas'] = areas\n",
    "        \n",
    "df_processed = df_processed[['resumo', 'palavra_chave', 'colegios', 'areas', 'subareas']]"
   ]
  },
  {
   "cell_type": "code",
   "execution_count": 13,
   "metadata": {},
   "outputs": [
    {
     "data": {
      "text/html": [
       "<div>\n",
       "<style scoped>\n",
       "    .dataframe tbody tr th:only-of-type {\n",
       "        vertical-align: middle;\n",
       "    }\n",
       "\n",
       "    .dataframe tbody tr th {\n",
       "        vertical-align: top;\n",
       "    }\n",
       "\n",
       "    .dataframe thead th {\n",
       "        text-align: right;\n",
       "    }\n",
       "</style>\n",
       "<table border=\"1\" class=\"dataframe\">\n",
       "  <thead>\n",
       "    <tr style=\"text-align: right;\">\n",
       "      <th></th>\n",
       "      <th>resumo</th>\n",
       "      <th>palavra_chave</th>\n",
       "      <th>colegios</th>\n",
       "      <th>areas</th>\n",
       "      <th>subareas</th>\n",
       "    </tr>\n",
       "  </thead>\n",
       "  <tbody>\n",
       "    <tr>\n",
       "      <th>0</th>\n",
       "      <td>a possibilidade da ocorrência de sismos no bra...</td>\n",
       "      <td>análise sísmica, concreto armado, detalhamento...</td>\n",
       "      <td>ciências exatas, tecnológicas e multidisciplinar</td>\n",
       "      <td>engenharias</td>\n",
       "      <td>engenharias i</td>\n",
       "    </tr>\n",
       "    <tr>\n",
       "      <th>1</th>\n",
       "      <td>as obras de pontes estaiadas envolvem uma tecn...</td>\n",
       "      <td>ponte estaiada. ponte do saber. análise estrut...</td>\n",
       "      <td>ciências exatas, tecnológicas e multidisciplinar</td>\n",
       "      <td>engenharias</td>\n",
       "      <td>engenharias i</td>\n",
       "    </tr>\n",
       "    <tr>\n",
       "      <th>2</th>\n",
       "      <td>a hiperplasia de células neuroendócrinas do la...</td>\n",
       "      <td>1. doenças pulmonares intersticiais  radiogra...</td>\n",
       "      <td>ciências da vida</td>\n",
       "      <td>ciências da saúde</td>\n",
       "      <td>medicina ii</td>\n",
       "    </tr>\n",
       "    <tr>\n",
       "      <th>3</th>\n",
       "      <td>estudos recentes tem demonstrado alterações da...</td>\n",
       "      <td>1. neuralgia do trigêmeo - fisiopatologia. 2. ...</td>\n",
       "      <td>ciências da vida</td>\n",
       "      <td>ciências da saúde</td>\n",
       "      <td>medicina ii</td>\n",
       "    </tr>\n",
       "    <tr>\n",
       "      <th>4</th>\n",
       "      <td>dentre as técnicas mais utilizadas na determin...</td>\n",
       "      <td>plataformas fixas, estruturas offshore, estrut...</td>\n",
       "      <td>ciências exatas, tecnológicas e multidisciplinar</td>\n",
       "      <td>engenharias</td>\n",
       "      <td>engenharias i</td>\n",
       "    </tr>\n",
       "  </tbody>\n",
       "</table>\n",
       "</div>"
      ],
      "text/plain": [
       "                                              resumo   \n",
       "0  a possibilidade da ocorrência de sismos no bra...  \\\n",
       "1  as obras de pontes estaiadas envolvem uma tecn...   \n",
       "2  a hiperplasia de células neuroendócrinas do la...   \n",
       "3  estudos recentes tem demonstrado alterações da...   \n",
       "4  dentre as técnicas mais utilizadas na determin...   \n",
       "\n",
       "                                       palavra_chave   \n",
       "0  análise sísmica, concreto armado, detalhamento...  \\\n",
       "1  ponte estaiada. ponte do saber. análise estrut...   \n",
       "2  1. doenças pulmonares intersticiais  radiogra...   \n",
       "3  1. neuralgia do trigêmeo - fisiopatologia. 2. ...   \n",
       "4  plataformas fixas, estruturas offshore, estrut...   \n",
       "\n",
       "                                           colegios              areas   \n",
       "0  ciências exatas, tecnológicas e multidisciplinar        engenharias  \\\n",
       "1  ciências exatas, tecnológicas e multidisciplinar        engenharias   \n",
       "2                                  ciências da vida  ciências da saúde   \n",
       "3                                  ciências da vida  ciências da saúde   \n",
       "4  ciências exatas, tecnológicas e multidisciplinar        engenharias   \n",
       "\n",
       "        subareas  \n",
       "0  engenharias i  \n",
       "1  engenharias i  \n",
       "2    medicina ii  \n",
       "3    medicina ii  \n",
       "4  engenharias i  "
      ]
     },
     "execution_count": 13,
     "metadata": {},
     "output_type": "execute_result"
    }
   ],
   "source": [
    "df_processed.head()"
   ]
  },
  {
   "attachments": {},
   "cell_type": "markdown",
   "metadata": {},
   "source": [
    "Palavra Chave"
   ]
  },
  {
   "cell_type": "code",
   "execution_count": 14,
   "metadata": {},
   "outputs": [],
   "source": [
    "df_processed.palavra_chave.replace(to_replace = r'1[.]', value = ';', regex = True, inplace=True)\n",
    "df_processed.palavra_chave.replace(to_replace = r' \\d[.]', value = ';', regex = True, inplace=True)\n",
    "df_processed.palavra_chave.replace(to_replace = r'(\\S{2,})(?:\\.)', value = '\\\\1;', regex=True, inplace=True)\n",
    "df_processed.palavra_chave.replace(to_replace = r'\\b(pt|en)\\b', value = ';', regex = True, inplace=True)\n",
    "df_processed.palavra_chave.replace(to_replace = r' ,|, | [,] | /|/ | [/] ', value = ';', regex = True, inplace=True)\n",
    "df_processed.palavra_chave.replace(to_replace = r' [.] |\\(\\d\\)', value = ';', regex = True, inplace=True)\n",
    "df_processed.palavra_chave.replace(to_replace = r' \\x96 |\\x93', value = ';', regex = True, inplace=True)\n",
    "df_processed.palavra_chave.replace(to_replace = r'[^a-z0-9\\s\\x80-\\xff,.:;?!-]', value = '', regex = True, inplace=True)\n",
    "df_processed.palavra_chave.replace(to_replace = r' - |; | ;|; ;', value = ';', regex = True, inplace=True)\n",
    "df_processed.palavra_chave.replace(to_replace = r';{2,}', value = ';', regex = True, inplace=True)\n",
    "df_processed.palavra_chave.replace(to_replace= r'[\\W_]+$|^[;]+', value='', regex=True, inplace=True)\n",
    "df_processed.palavra_chave.replace(to_replace = r'palavras-chave\\S', value = '', regex = True, inplace=True)\n",
    "df_processed.palavra_chave.replace(to_replace = r'^\\s+|\\s+$|\\x80', value = '', regex = True, inplace=True)"
   ]
  },
  {
   "attachments": {},
   "cell_type": "markdown",
   "metadata": {},
   "source": [
    "Resumo"
   ]
  },
  {
   "cell_type": "code",
   "execution_count": 15,
   "metadata": {},
   "outputs": [],
   "source": [
    "df_processed.resumo.replace(to_replace= r'[^a-zA-Z0-9\\s]+', value='', regex=True, inplace=True)"
   ]
  },
  {
   "cell_type": "code",
   "execution_count": 16,
   "metadata": {},
   "outputs": [],
   "source": [
    "key_words = df_processed.palavra_chave.copy()\n",
    "key_words = list(set(';'.join(key_words).split(';')))\n",
    "key_words = [item for item in key_words if len(item) > 1]\n",
    "\n",
    "for i in range (len(key_words)):\n",
    "    key_words[i] = key_words[i].strip()\n",
    "    \n",
    "key_words = [item for item in key_words if len(item) < 80]"
   ]
  },
  {
   "cell_type": "code",
   "execution_count": 17,
   "metadata": {},
   "outputs": [],
   "source": [
    "key_words = list(set(key_words))"
   ]
  },
  {
   "cell_type": "code",
   "execution_count": 18,
   "metadata": {},
   "outputs": [
    {
     "data": {
      "text/plain": [
       "117143"
      ]
     },
     "execution_count": 18,
     "metadata": {},
     "output_type": "execute_result"
    }
   ],
   "source": [
    "len(key_words)"
   ]
  },
  {
   "cell_type": "code",
   "execution_count": 19,
   "metadata": {},
   "outputs": [],
   "source": [
    "def calculate_similarity_or_pertency(sentence: str, text: str) -> str:\n",
    "    if sentence in text:\n",
    "        return True\n",
    "    similaridade = difflib.SequenceMatcher(None, sentence, text).ratio()\n",
    "    porcentagem = int(similaridade * 100)\n",
    "    if porcentagem > 80:\n",
    "        return True\n",
    "    \n",
    "    return False"
   ]
  },
  {
   "cell_type": "code",
   "execution_count": 20,
   "metadata": {},
   "outputs": [],
   "source": [
    "def process_character(character):\n",
    "    corte = df_processed[\n",
    "        df_processed.palavra_chave.apply(\n",
    "            lambda x: calculate_similarity_or_pertency(character, x)\n",
    "        ) \n",
    "        |\n",
    "        df_processed.resumo.apply(\n",
    "            lambda x: calculate_similarity_or_pertency(character, x)\n",
    "        )\n",
    "    ].iloc[:, -3:]\n",
    "\n",
    "    results = []\n",
    "    for subarea in sorted(corte.subareas.unique()):\n",
    "        colegio, area = (\n",
    "            corte[corte.subareas == subarea].colegios.unique()[0],\n",
    "            corte[corte.subareas == subarea].areas.unique()[0],\n",
    "        )\n",
    "        frequencia = corte.subareas.value_counts()[subarea]\n",
    "        results.append([colegio, area, subarea, character, frequencia])\n",
    "\n",
    "    return results\n",
    "\n",
    "max_threads = os.cpu_count()\n",
    "data = []\n",
    "with multiprocessing.Pool(processes=max_threads) as pool:\n",
    "    for result in pool.imap_unordered(process_character, key_words):\n",
    "        data.extend(result)"
   ]
  },
  {
   "cell_type": "code",
   "execution_count": null,
   "metadata": {},
   "outputs": [],
   "source": [
    "freq = pd.DataFrame(data, columns=[\"colegio\", \"area\", \"subarea\", \"palavra_chave\", \"frequencia\"])"
   ]
  },
  {
   "cell_type": "code",
   "execution_count": null,
   "metadata": {},
   "outputs": [
    {
     "data": {
      "text/html": [
       "<div>\n",
       "<style scoped>\n",
       "    .dataframe tbody tr th:only-of-type {\n",
       "        vertical-align: middle;\n",
       "    }\n",
       "\n",
       "    .dataframe tbody tr th {\n",
       "        vertical-align: top;\n",
       "    }\n",
       "\n",
       "    .dataframe thead th {\n",
       "        text-align: right;\n",
       "    }\n",
       "</style>\n",
       "<table border=\"1\" class=\"dataframe\">\n",
       "  <thead>\n",
       "    <tr style=\"text-align: right;\">\n",
       "      <th></th>\n",
       "      <th>colegio</th>\n",
       "      <th>area</th>\n",
       "      <th>subarea</th>\n",
       "      <th>frequencia</th>\n",
       "    </tr>\n",
       "    <tr>\n",
       "      <th>palavra_chave</th>\n",
       "      <th></th>\n",
       "      <th></th>\n",
       "      <th></th>\n",
       "      <th></th>\n",
       "    </tr>\n",
       "  </thead>\n",
       "  <tbody>\n",
       "    <tr>\n",
       "      <th>es</th>\n",
       "      <td>ciências exatas, tecnológicas e multidisciplinar</td>\n",
       "      <td>multidisciplinar</td>\n",
       "      <td>interdisciplinar</td>\n",
       "      <td>611</td>\n",
       "    </tr>\n",
       "    <tr>\n",
       "      <th>ca</th>\n",
       "      <td>ciências exatas, tecnológicas e multidisciplinar</td>\n",
       "      <td>multidisciplinar</td>\n",
       "      <td>interdisciplinar</td>\n",
       "      <td>610</td>\n",
       "    </tr>\n",
       "    <tr>\n",
       "      <th>ica</th>\n",
       "      <td>ciências exatas, tecnológicas e multidisciplinar</td>\n",
       "      <td>multidisciplinar</td>\n",
       "      <td>interdisciplinar</td>\n",
       "      <td>604</td>\n",
       "    </tr>\n",
       "    <tr>\n",
       "      <th>al</th>\n",
       "      <td>ciências exatas, tecnológicas e multidisciplinar</td>\n",
       "      <td>multidisciplinar</td>\n",
       "      <td>interdisciplinar</td>\n",
       "      <td>603</td>\n",
       "    </tr>\n",
       "    <tr>\n",
       "      <th>ar</th>\n",
       "      <td>ciências exatas, tecnológicas e multidisciplinar</td>\n",
       "      <td>multidisciplinar</td>\n",
       "      <td>interdisciplinar</td>\n",
       "      <td>601</td>\n",
       "    </tr>\n",
       "    <tr>\n",
       "      <th>...</th>\n",
       "      <td>...</td>\n",
       "      <td>...</td>\n",
       "      <td>...</td>\n",
       "      <td>...</td>\n",
       "    </tr>\n",
       "    <tr>\n",
       "      <th>geoquímica</th>\n",
       "      <td>ciências exatas, tecnológicas e multidisciplinar</td>\n",
       "      <td>multidisciplinar</td>\n",
       "      <td>ciências ambientais</td>\n",
       "      <td>1</td>\n",
       "    </tr>\n",
       "    <tr>\n",
       "      <th>geoquímica</th>\n",
       "      <td>ciências exatas, tecnológicas e multidisciplinar</td>\n",
       "      <td>engenharias</td>\n",
       "      <td>engenharias ii</td>\n",
       "      <td>1</td>\n",
       "    </tr>\n",
       "    <tr>\n",
       "      <th>geoquímica</th>\n",
       "      <td>ciências exatas, tecnológicas e multidisciplinar</td>\n",
       "      <td>ciências exatas e da terra</td>\n",
       "      <td>química</td>\n",
       "      <td>1</td>\n",
       "    </tr>\n",
       "    <tr>\n",
       "      <th>geoprocessamento e a ferramenta de simulação baseada em multiage</th>\n",
       "      <td>ciências exatas, tecnológicas e multidisciplinar</td>\n",
       "      <td>multidisciplinar</td>\n",
       "      <td>interdisciplinar</td>\n",
       "      <td>1</td>\n",
       "    </tr>\n",
       "    <tr>\n",
       "      <th>útero isolado de rata</th>\n",
       "      <td>ciências da vida</td>\n",
       "      <td>ciências da saúde</td>\n",
       "      <td>farmácia</td>\n",
       "      <td>1</td>\n",
       "    </tr>\n",
       "  </tbody>\n",
       "</table>\n",
       "<p>42239 rows × 4 columns</p>\n",
       "</div>"
      ],
      "text/plain": [
       "                                                                                             colegio  \\\n",
       "palavra_chave                                                                                          \n",
       "es                                                  ciências exatas, tecnológicas e multidisciplinar   \n",
       "ca                                                  ciências exatas, tecnológicas e multidisciplinar   \n",
       "ica                                                 ciências exatas, tecnológicas e multidisciplinar   \n",
       "al                                                  ciências exatas, tecnológicas e multidisciplinar   \n",
       "ar                                                  ciências exatas, tecnológicas e multidisciplinar   \n",
       "...                                                                                              ...   \n",
       "geoquímica                                          ciências exatas, tecnológicas e multidisciplinar   \n",
       "geoquímica                                          ciências exatas, tecnológicas e multidisciplinar   \n",
       "geoquímica                                          ciências exatas, tecnológicas e multidisciplinar   \n",
       "geoprocessamento e a ferramenta de simulação ba...  ciências exatas, tecnológicas e multidisciplinar   \n",
       "útero isolado de rata                                                               ciências da vida   \n",
       "\n",
       "                                                                          area  \\\n",
       "palavra_chave                                                                    \n",
       "es                                                            multidisciplinar   \n",
       "ca                                                            multidisciplinar   \n",
       "ica                                                           multidisciplinar   \n",
       "al                                                            multidisciplinar   \n",
       "ar                                                            multidisciplinar   \n",
       "...                                                                        ...   \n",
       "geoquímica                                                    multidisciplinar   \n",
       "geoquímica                                                         engenharias   \n",
       "geoquímica                                          ciências exatas e da terra   \n",
       "geoprocessamento e a ferramenta de simulação ba...            multidisciplinar   \n",
       "útero isolado de rata                                        ciências da saúde   \n",
       "\n",
       "                                                                subarea  \\\n",
       "palavra_chave                                                             \n",
       "es                                                     interdisciplinar   \n",
       "ca                                                     interdisciplinar   \n",
       "ica                                                    interdisciplinar   \n",
       "al                                                     interdisciplinar   \n",
       "ar                                                     interdisciplinar   \n",
       "...                                                                 ...   \n",
       "geoquímica                                          ciências ambientais   \n",
       "geoquímica                                               engenharias ii   \n",
       "geoquímica                                                      química   \n",
       "geoprocessamento e a ferramenta de simulação ba...     interdisciplinar   \n",
       "útero isolado de rata                                          farmácia   \n",
       "\n",
       "                                                    frequencia  \n",
       "palavra_chave                                                   \n",
       "es                                                         611  \n",
       "ca                                                         610  \n",
       "ica                                                        604  \n",
       "al                                                         603  \n",
       "ar                                                         601  \n",
       "...                                                        ...  \n",
       "geoquímica                                                   1  \n",
       "geoquímica                                                   1  \n",
       "geoquímica                                                   1  \n",
       "geoprocessamento e a ferramenta de simulação ba...           1  \n",
       "útero isolado de rata                                        1  \n",
       "\n",
       "[42239 rows x 4 columns]"
      ]
     },
     "execution_count": 22,
     "metadata": {},
     "output_type": "execute_result"
    }
   ],
   "source": [
    "freq.set_index('palavra_chave').sort_index().sort_values('frequencia', ascending=False)"
   ]
  },
  {
   "cell_type": "code",
   "execution_count": null,
   "metadata": {},
   "outputs": [],
   "source": [
    "freq.to_pickle('freq.pkl')"
   ]
  },
  {
   "cell_type": "code",
   "execution_count": null,
   "metadata": {},
   "outputs": [],
   "source": [
    "# for item in ['resumo', 'abstract', 'palavra_chave', 'keyword']:\n",
    "#     df_processed[f'{item}'].replace(to_replace ='[0-9]+', value = '', regex = True, inplace=True)\n",
    "#     df_processed[f'{item}'] = df_processed[f'{item}'].progress_apply(remove_number_words)\n",
    "#     df_processed[f'{item}'].replace(to_replace ='[,.:;!?]+', value = '', regex = True, inplace=True)\n",
    "#     df_processed[f'{item}'].replace(to_replace ='[/<>()|\\+\\-\\$%&#@\\'\\\"]+', value = '', regex = True, inplace=True)\n",
    "#     df_processed[f'{item}'].replace(to_replace ='\\W+', value = ' ', regex = True, inplace=True)"
   ]
  },
  {
   "cell_type": "code",
   "execution_count": null,
   "metadata": {},
   "outputs": [],
   "source": [
    "# for item in ['palavra_chave', 'keyword']:\n",
    "#     df_processed[f'{item}'].replace(to_replace ='([0-9][. ])', value = ',', regex = True, inplace=True)\n",
    "#     df_processed[f'{item}'].replace(to_replace ='([.])+', value = ',', regex = True, inplace=True)\n",
    "#     df_processed[f'{item}'].replace(to_replace ='(  )+', value = ' ', regex = True, inplace=True)\n",
    "#     df_processed[f'{item}'] = df_processed[f'{item}'].str.lstrip(', ')"
   ]
  },
  {
   "cell_type": "code",
   "execution_count": null,
   "metadata": {},
   "outputs": [],
   "source": [
    "# df_processed.head()"
   ]
  },
  {
   "attachments": {},
   "cell_type": "markdown",
   "metadata": {},
   "source": [
    "## Testes"
   ]
  },
  {
   "cell_type": "code",
   "execution_count": null,
   "metadata": {},
   "outputs": [],
   "source": [
    "# df_test = df_processed[['resumo', 'area_avaliacao']].copy()"
   ]
  },
  {
   "cell_type": "code",
   "execution_count": null,
   "metadata": {},
   "outputs": [],
   "source": [
    "# def remove_stopwords(text: str) -> str:\n",
    "#     stop_words = set(stopwords.words('portuguese'))\n",
    "#     new_text = [item for item in wordpunct_tokenize(text) if item not in stop_words]\n",
    "#     return \" \".join(set(new_text))"
   ]
  },
  {
   "cell_type": "code",
   "execution_count": null,
   "metadata": {},
   "outputs": [],
   "source": [
    "# df_test.resumo = df_test.resumo.apply(remove_stopwords)"
   ]
  },
  {
   "cell_type": "code",
   "execution_count": null,
   "metadata": {},
   "outputs": [],
   "source": [
    "# def lc_stem(text: str) -> str:\n",
    "#     stemmer = LancasterStemmer()\n",
    "#     words = [stemmer.stem(word) for word in wordpunct_tokenize(text)]\n",
    "#     return \" \".join(set(words))"
   ]
  },
  {
   "cell_type": "code",
   "execution_count": null,
   "metadata": {},
   "outputs": [],
   "source": [
    "# lem = df_test.copy()\n",
    "# lem.resumo = lem.resumo.apply(lc_stem)"
   ]
  },
  {
   "cell_type": "code",
   "execution_count": null,
   "metadata": {},
   "outputs": [],
   "source": [
    "# def spc_lem(text: str) -> str:\n",
    "#     words = [token.lemma_ for token in nlp(text) if token.pos_ != 'PUNCT']\n",
    "#     return \" \".join(set(words))"
   ]
  },
  {
   "cell_type": "code",
   "execution_count": null,
   "metadata": {},
   "outputs": [],
   "source": [
    "# stem = df_test.copy()\n",
    "# stem.resumo = stem.resumo.apply(spc_lem)"
   ]
  },
  {
   "cell_type": "code",
   "execution_count": null,
   "metadata": {},
   "outputs": [],
   "source": [
    "# def freq_dist(array: list) -> dict:\n",
    "#     text = ' '.join(array)\n",
    "#     return FreqDist(wordpunct_tokenize(text))"
   ]
  },
  {
   "cell_type": "code",
   "execution_count": null,
   "metadata": {},
   "outputs": [],
   "source": [
    "# lem.to_pickle(f'./Processed/{year}_lem.pkl')\n",
    "# stem.to_pickle(f'./Processed/{year}_stem.pkl')"
   ]
  }
 ],
 "metadata": {
  "kernelspec": {
   "display_name": "cluster_capes_venv",
   "language": "python",
   "name": "python3"
  },
  "language_info": {
   "codemirror_mode": {
    "name": "ipython",
    "version": 3
   },
   "file_extension": ".py",
   "mimetype": "text/x-python",
   "name": "python",
   "nbconvert_exporter": "python",
   "pygments_lexer": "ipython3",
   "version": "3.10.8"
  },
  "orig_nbformat": 4,
  "vscode": {
   "interpreter": {
    "hash": "0d4c46c82f51ef28f5eab6816ca9e5cac0bb774198226a09b584f8bcd34ab895"
   }
  }
 },
 "nbformat": 4,
 "nbformat_minor": 2
}
