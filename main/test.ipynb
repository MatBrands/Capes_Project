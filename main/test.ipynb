{
 "cells": [
  {
   "cell_type": "code",
   "execution_count": 18,
   "metadata": {},
   "outputs": [],
   "source": [
    "import pandas as pd\n",
    "import numpy as np\n",
    "import difflib"
   ]
  },
  {
   "cell_type": "code",
   "execution_count": 19,
   "metadata": {},
   "outputs": [],
   "source": [
    "year = 2013\n",
    "df = pd.read_csv(f'./Raw/{year}.csv', sep=';', encoding ='latin')\n",
    "df_processed = df[['DS_RESUMO', 'DS_PALAVRA_CHAVE', 'NM_AREA_AVALIACAO']].head(100).copy()"
   ]
  },
  {
   "cell_type": "code",
   "execution_count": 20,
   "metadata": {},
   "outputs": [],
   "source": [
    "df_processed.columns = df_processed.columns.str.slice(3).str.lower()\n",
    "df_processed.rename(columns={\n",
    "    'base': 'ano'\n",
    "}, inplace=True)\n",
    "\n",
    "for item in list(df_processed.iloc[:, 0:].columns):\n",
    "    df_processed[f'{item}'] = df_processed[f'{item}'].str.lower()"
   ]
  },
  {
   "cell_type": "code",
   "execution_count": 21,
   "metadata": {},
   "outputs": [],
   "source": [
    "def rename_areas(text: str) -> str:\n",
    "    if text in ['administração pública e de empresas, ciências contábeis e turismo', 'administração, ciências contábeis e turismo']:\n",
    "        return 'administração pública e de empresas, ciências contábeis e turismo'\n",
    "    elif text in ['arquitetura e urbanismo', 'arquitetura, urbanismo e design']:\n",
    "        return 'arquitetura, urbanismo e design'\n",
    "    elif text in 'filosofia/teologia:subcomissão filosofia':\n",
    "        return 'filosofia'\n",
    "    elif text in ['filosofia/teologia:subcomissão teologia', 'teologia']:\n",
    "        return 'ciências da religião e teologia'\n",
    "    elif text in 'letras / linguística':\n",
    "        return 'linguística e literatura'\n",
    "    elif text in 'artes / música':\n",
    "        return 'artes'\n",
    "    elif text in 'ciências sociais aplicadas i':\n",
    "        return 'serviço social'\n",
    "    else:\n",
    "        return text"
   ]
  },
  {
   "cell_type": "code",
   "execution_count": 22,
   "metadata": {},
   "outputs": [],
   "source": [
    "df_processed.area_avaliacao = df_processed.area_avaliacao.apply(rename_areas)\n",
    "del rename_areas"
   ]
  },
  {
   "cell_type": "code",
   "execution_count": 23,
   "metadata": {},
   "outputs": [],
   "source": [
    "colegios_dict = {\n",
    "    'ciências da vida': {\n",
    "        'ciências agrárias': ['ciência de alimentos', 'ciências agrárias i', 'medicina veterinária', 'zootecnia / recursos pesqueiros'],\n",
    "        'ciências biológicas': ['biodiversidade', 'ciências biológicas i', 'ciências biológicas ii', 'ciências biológicas iii'],\n",
    "        'ciências da saúde': ['educação física', 'enfermagem', 'farmácia', 'medicina i', 'medicina ii', 'medicina iii', 'nutrição', 'odontologia', 'saúde coletiva']\n",
    "    },\n",
    "    'humanidades': {\n",
    "        'ciências humanas': ['antropologia / arqueologia', 'ciência política e relações internacionais', 'ciências da religião e teologia', 'educação', 'filosofia', 'geografia', 'história', 'psicologia', 'sociologia'],\n",
    "        'ciências sociais aplicadas': ['administração pública e de empresas, ciências contábeis e turismo', 'arquitetura, urbanismo e design', 'comunicação e informação', 'direito', 'economia', 'planejamento urbano e regional / demografia', 'serviço social'],\n",
    "        'linguística, letras e artes': ['artes', 'linguística e literatura']\n",
    "    },\n",
    "    'ciências exatas, tecnológicas e multidisciplinar': {\n",
    "        'ciências exatas e da terra': ['astronomia / física', 'ciência da computação', 'geociências', 'matemática / probabilidade e estatística', 'química'],\n",
    "        'engenharias': ['engenharias i', 'engenharias ii', 'engenharias iii', 'engenharias iv'],\n",
    "        'multidisciplinar': ['biotecnologia', 'ciências ambientais', 'ensino', 'interdisciplinar', 'materiais']\n",
    "    }\n",
    "}"
   ]
  },
  {
   "cell_type": "code",
   "execution_count": 24,
   "metadata": {},
   "outputs": [],
   "source": [
    "df_processed['colegios'] = ''\n",
    "df_processed['areas'] = ''\n",
    "df_processed.rename(columns={'area_avaliacao': 'subareas'}, inplace=True)\n",
    "\n",
    "for colegios, areas in colegios_dict.items():\n",
    "    for areas, subareas in areas.items():\n",
    "        df_processed.loc[df_processed.subareas.isin(subareas), 'colegios'] = colegios\n",
    "        df_processed.loc[df_processed.subareas.isin(subareas), 'areas'] = areas\n",
    "        \n",
    "df_processed = df_processed[['resumo', 'palavra_chave', 'colegios', 'areas', 'subareas']]"
   ]
  },
  {
   "cell_type": "code",
   "execution_count": 25,
   "metadata": {},
   "outputs": [],
   "source": [
    "df_processed.palavra_chave.replace(to_replace = r'1[.]', value = ';', regex = True, inplace=True)\n",
    "df_processed.palavra_chave.replace(to_replace = r' \\d[.]', value = ';', regex = True, inplace=True)\n",
    "df_processed.palavra_chave.replace(to_replace = r'(\\S{2,})(?:\\.)', value = '\\\\1;', regex=True, inplace=True)\n",
    "df_processed.palavra_chave.replace(to_replace = r'\\b(pt|en)\\b', value = ';', regex = True, inplace=True)\n",
    "df_processed.palavra_chave.replace(to_replace = r' ,|, | [,] | /|/ | [/] ', value = ';', regex = True, inplace=True)\n",
    "df_processed.palavra_chave.replace(to_replace = r' [.] |\\(\\d\\)', value = ';', regex = True, inplace=True)\n",
    "df_processed.palavra_chave.replace(to_replace = r' \\x96 |\\x93', value = ';', regex = True, inplace=True)\n",
    "df_processed.palavra_chave.replace(to_replace = r'[^a-z0-9\\s\\x80-\\xff,.:;?!-]', value = '', regex = True, inplace=True)\n",
    "df_processed.palavra_chave.replace(to_replace = r' - |; | ;|; ;', value = ';', regex = True, inplace=True)\n",
    "df_processed.palavra_chave.replace(to_replace = r';{2,}', value = ';', regex = True, inplace=True)\n",
    "df_processed.palavra_chave.replace(to_replace= r'[\\W_]+$|^[;]+', value='', regex=True, inplace=True)\n",
    "df_processed.palavra_chave.replace(to_replace = r'palavras-chave\\S', value = '', regex = True, inplace=True)\n",
    "df_processed.palavra_chave.replace(to_replace = r'^\\s+|\\s+$|\\x80', value = '', regex = True, inplace=True)"
   ]
  },
  {
   "cell_type": "code",
   "execution_count": 26,
   "metadata": {},
   "outputs": [],
   "source": [
    "df_processed.resumo.replace(to_replace= r'[^a-zA-Z0-9\\s]+', value='', regex=True, inplace=True)"
   ]
  },
  {
   "cell_type": "code",
   "execution_count": 27,
   "metadata": {},
   "outputs": [],
   "source": [
    "key_words = df_processed.palavra_chave.copy()\n",
    "key_words = list(set(';'.join(key_words).split(';')))\n",
    "key_words = [item for item in key_words if len(item) > 1]\n",
    "\n",
    "for i in range (len(key_words)):\n",
    "    key_words[i] = key_words[i].strip()\n",
    "    \n",
    "key_words = [item for item in key_words if len(item) < 80]"
   ]
  },
  {
   "cell_type": "code",
   "execution_count": 28,
   "metadata": {},
   "outputs": [
    {
     "name": "stdout",
     "output_type": "stream",
     "text": [
      "385\n",
      "385\n"
     ]
    }
   ],
   "source": [
    "print(len(key_words))\n",
    "print(len(set(key_words)))"
   ]
  },
  {
   "cell_type": "code",
   "execution_count": 29,
   "metadata": {},
   "outputs": [],
   "source": [
    "def calculate_similarity_or_pertency(sentence: str, text: str) -> str:\n",
    "    if sentence in text:\n",
    "        return True\n",
    "    similaridade = difflib.SequenceMatcher(None, sentence, text).ratio()\n",
    "    porcentagem = int(similaridade * 100)\n",
    "    if porcentagem > 80:\n",
    "        return True\n",
    "    \n",
    "    return False"
   ]
  },
  {
   "cell_type": "code",
   "execution_count": 42,
   "metadata": {},
   "outputs": [
    {
     "name": "stderr",
     "output_type": "stream",
     "text": [
      "/home/matheusmbr/anaconda3/envs/cluster_capes_venv/lib/python3.10/site-packages/distributed/node.py:182: UserWarning: Port 8888 is already in use.\n",
      "Perhaps you already have a cluster running?\n",
      "Hosting the HTTP server on port 37027 instead\n",
      "  warnings.warn(\n"
     ]
    }
   ],
   "source": [
    "import dask.bag as db\n",
    "import dask.distributed\n",
    "\n",
    "def process_character(character):\n",
    "    corte = df_processed[\n",
    "        df_processed.palavra_chave.apply(\n",
    "            lambda x: calculate_similarity_or_pertency(character, x)\n",
    "        ) \n",
    "        |\n",
    "        df_processed.resumo.apply(\n",
    "            lambda x: calculate_similarity_or_pertency(character, x)\n",
    "        )\n",
    "    ].iloc[:, -3:]\n",
    "\n",
    "    results = []\n",
    "    for subarea in sorted(corte.subareas.unique()):\n",
    "        colegio, area = (\n",
    "            corte[corte.subareas == subarea].colegios.unique()[0],\n",
    "            corte[corte.subareas == subarea].areas.unique()[0],\n",
    "        )\n",
    "        frequencia = corte.subareas.value_counts()[subarea]\n",
    "        results.append([colegio, area, subarea, character, frequencia])\n",
    "\n",
    "    return results\n",
    "\n",
    "# criar um cliente Dask\n",
    "client = dask.distributed.Client(address=\"10.0.0.115:8888\", n_workers=2, threads_per_worker=16, memory_limit='10GB')\n",
    "\n",
    "# criar uma bag a partir da lista key_words\n",
    "bag = db.from_sequence(key_words)\n",
    "\n",
    "# aplicar a função process_character em paralelo para cada elemento da bag\n",
    "results_bag = bag.map(process_character)\n",
    "\n",
    "# concatenar todos os resultados em uma única lista\n",
    "results_list = results_bag.compute()\n",
    "\n",
    "# fechar o cliente Dask\n",
    "client.close()\n"
   ]
  },
  {
   "cell_type": "code",
   "execution_count": 40,
   "metadata": {},
   "outputs": [
    {
     "name": "stderr",
     "output_type": "stream",
     "text": [
      "2023-04-19 19:44:51,989 - distributed.utils_perf - WARNING - full garbage collections took 11% CPU time recently (threshold: 10%)\n"
     ]
    },
    {
     "ename": "ValueError",
     "evalue": "5 columns passed, passed data had 9 columns",
     "output_type": "error",
     "traceback": [
      "\u001b[0;31m---------------------------------------------------------------------------\u001b[0m",
      "\u001b[0;31mAssertionError\u001b[0m                            Traceback (most recent call last)",
      "File \u001b[0;32m~/.local/lib/python3.10/site-packages/pandas/core/internals/construction.py:934\u001b[0m, in \u001b[0;36m_finalize_columns_and_data\u001b[0;34m(content, columns, dtype)\u001b[0m\n\u001b[1;32m    933\u001b[0m \u001b[39mtry\u001b[39;00m:\n\u001b[0;32m--> 934\u001b[0m     columns \u001b[39m=\u001b[39m _validate_or_indexify_columns(contents, columns)\n\u001b[1;32m    935\u001b[0m \u001b[39mexcept\u001b[39;00m \u001b[39mAssertionError\u001b[39;00m \u001b[39mas\u001b[39;00m err:\n\u001b[1;32m    936\u001b[0m     \u001b[39m# GH#26429 do not raise user-facing AssertionError\u001b[39;00m\n",
      "File \u001b[0;32m~/.local/lib/python3.10/site-packages/pandas/core/internals/construction.py:981\u001b[0m, in \u001b[0;36m_validate_or_indexify_columns\u001b[0;34m(content, columns)\u001b[0m\n\u001b[1;32m    979\u001b[0m \u001b[39mif\u001b[39;00m \u001b[39mnot\u001b[39;00m is_mi_list \u001b[39mand\u001b[39;00m \u001b[39mlen\u001b[39m(columns) \u001b[39m!=\u001b[39m \u001b[39mlen\u001b[39m(content):  \u001b[39m# pragma: no cover\u001b[39;00m\n\u001b[1;32m    980\u001b[0m     \u001b[39m# caller's responsibility to check for this...\u001b[39;00m\n\u001b[0;32m--> 981\u001b[0m     \u001b[39mraise\u001b[39;00m \u001b[39mAssertionError\u001b[39;00m(\n\u001b[1;32m    982\u001b[0m         \u001b[39mf\u001b[39m\u001b[39m\"\u001b[39m\u001b[39m{\u001b[39;00m\u001b[39mlen\u001b[39m(columns)\u001b[39m}\u001b[39;00m\u001b[39m columns passed, passed data had \u001b[39m\u001b[39m\"\u001b[39m\n\u001b[1;32m    983\u001b[0m         \u001b[39mf\u001b[39m\u001b[39m\"\u001b[39m\u001b[39m{\u001b[39;00m\u001b[39mlen\u001b[39m(content)\u001b[39m}\u001b[39;00m\u001b[39m columns\u001b[39m\u001b[39m\"\u001b[39m\n\u001b[1;32m    984\u001b[0m     )\n\u001b[1;32m    985\u001b[0m \u001b[39mif\u001b[39;00m is_mi_list:\n\u001b[1;32m    986\u001b[0m     \u001b[39m# check if nested list column, length of each sub-list should be equal\u001b[39;00m\n",
      "\u001b[0;31mAssertionError\u001b[0m: 5 columns passed, passed data had 9 columns",
      "\nThe above exception was the direct cause of the following exception:\n",
      "\u001b[0;31mValueError\u001b[0m                                Traceback (most recent call last)",
      "Cell \u001b[0;32mIn[40], line 1\u001b[0m\n\u001b[0;32m----> 1\u001b[0m freq \u001b[39m=\u001b[39m pd\u001b[39m.\u001b[39;49mDataFrame(results_list, columns\u001b[39m=\u001b[39;49m[\u001b[39m\"\u001b[39;49m\u001b[39mcolegio\u001b[39;49m\u001b[39m\"\u001b[39;49m, \u001b[39m\"\u001b[39;49m\u001b[39marea\u001b[39;49m\u001b[39m\"\u001b[39;49m, \u001b[39m\"\u001b[39;49m\u001b[39msubarea\u001b[39;49m\u001b[39m\"\u001b[39;49m, \u001b[39m\"\u001b[39;49m\u001b[39mpalavra_chave\u001b[39;49m\u001b[39m\"\u001b[39;49m, \u001b[39m\"\u001b[39;49m\u001b[39mfrequencia\u001b[39;49m\u001b[39m\"\u001b[39;49m])\n",
      "File \u001b[0;32m~/.local/lib/python3.10/site-packages/pandas/core/frame.py:781\u001b[0m, in \u001b[0;36mDataFrame.__init__\u001b[0;34m(self, data, index, columns, dtype, copy)\u001b[0m\n\u001b[1;32m    779\u001b[0m     \u001b[39mif\u001b[39;00m columns \u001b[39mis\u001b[39;00m \u001b[39mnot\u001b[39;00m \u001b[39mNone\u001b[39;00m:\n\u001b[1;32m    780\u001b[0m         columns \u001b[39m=\u001b[39m ensure_index(columns)\n\u001b[0;32m--> 781\u001b[0m     arrays, columns, index \u001b[39m=\u001b[39m nested_data_to_arrays(\n\u001b[1;32m    782\u001b[0m         \u001b[39m# error: Argument 3 to \"nested_data_to_arrays\" has incompatible\u001b[39;49;00m\n\u001b[1;32m    783\u001b[0m         \u001b[39m# type \"Optional[Collection[Any]]\"; expected \"Optional[Index]\"\u001b[39;49;00m\n\u001b[1;32m    784\u001b[0m         data,\n\u001b[1;32m    785\u001b[0m         columns,\n\u001b[1;32m    786\u001b[0m         index,  \u001b[39m# type: ignore[arg-type]\u001b[39;49;00m\n\u001b[1;32m    787\u001b[0m         dtype,\n\u001b[1;32m    788\u001b[0m     )\n\u001b[1;32m    789\u001b[0m     mgr \u001b[39m=\u001b[39m arrays_to_mgr(\n\u001b[1;32m    790\u001b[0m         arrays,\n\u001b[1;32m    791\u001b[0m         columns,\n\u001b[0;32m   (...)\u001b[0m\n\u001b[1;32m    794\u001b[0m         typ\u001b[39m=\u001b[39mmanager,\n\u001b[1;32m    795\u001b[0m     )\n\u001b[1;32m    796\u001b[0m \u001b[39melse\u001b[39;00m:\n",
      "File \u001b[0;32m~/.local/lib/python3.10/site-packages/pandas/core/internals/construction.py:498\u001b[0m, in \u001b[0;36mnested_data_to_arrays\u001b[0;34m(data, columns, index, dtype)\u001b[0m\n\u001b[1;32m    495\u001b[0m \u001b[39mif\u001b[39;00m is_named_tuple(data[\u001b[39m0\u001b[39m]) \u001b[39mand\u001b[39;00m columns \u001b[39mis\u001b[39;00m \u001b[39mNone\u001b[39;00m:\n\u001b[1;32m    496\u001b[0m     columns \u001b[39m=\u001b[39m ensure_index(data[\u001b[39m0\u001b[39m]\u001b[39m.\u001b[39m_fields)\n\u001b[0;32m--> 498\u001b[0m arrays, columns \u001b[39m=\u001b[39m to_arrays(data, columns, dtype\u001b[39m=\u001b[39;49mdtype)\n\u001b[1;32m    499\u001b[0m columns \u001b[39m=\u001b[39m ensure_index(columns)\n\u001b[1;32m    501\u001b[0m \u001b[39mif\u001b[39;00m index \u001b[39mis\u001b[39;00m \u001b[39mNone\u001b[39;00m:\n",
      "File \u001b[0;32m~/.local/lib/python3.10/site-packages/pandas/core/internals/construction.py:840\u001b[0m, in \u001b[0;36mto_arrays\u001b[0;34m(data, columns, dtype)\u001b[0m\n\u001b[1;32m    837\u001b[0m     data \u001b[39m=\u001b[39m [\u001b[39mtuple\u001b[39m(x) \u001b[39mfor\u001b[39;00m x \u001b[39min\u001b[39;00m data]\n\u001b[1;32m    838\u001b[0m     arr \u001b[39m=\u001b[39m _list_to_arrays(data)\n\u001b[0;32m--> 840\u001b[0m content, columns \u001b[39m=\u001b[39m _finalize_columns_and_data(arr, columns, dtype)\n\u001b[1;32m    841\u001b[0m \u001b[39mreturn\u001b[39;00m content, columns\n",
      "File \u001b[0;32m~/.local/lib/python3.10/site-packages/pandas/core/internals/construction.py:937\u001b[0m, in \u001b[0;36m_finalize_columns_and_data\u001b[0;34m(content, columns, dtype)\u001b[0m\n\u001b[1;32m    934\u001b[0m     columns \u001b[39m=\u001b[39m _validate_or_indexify_columns(contents, columns)\n\u001b[1;32m    935\u001b[0m \u001b[39mexcept\u001b[39;00m \u001b[39mAssertionError\u001b[39;00m \u001b[39mas\u001b[39;00m err:\n\u001b[1;32m    936\u001b[0m     \u001b[39m# GH#26429 do not raise user-facing AssertionError\u001b[39;00m\n\u001b[0;32m--> 937\u001b[0m     \u001b[39mraise\u001b[39;00m \u001b[39mValueError\u001b[39;00m(err) \u001b[39mfrom\u001b[39;00m \u001b[39merr\u001b[39;00m\n\u001b[1;32m    939\u001b[0m \u001b[39mif\u001b[39;00m \u001b[39mlen\u001b[39m(contents) \u001b[39mand\u001b[39;00m contents[\u001b[39m0\u001b[39m]\u001b[39m.\u001b[39mdtype \u001b[39m==\u001b[39m np\u001b[39m.\u001b[39mobject_:\n\u001b[1;32m    940\u001b[0m     contents \u001b[39m=\u001b[39m convert_object_array(contents, dtype\u001b[39m=\u001b[39mdtype)\n",
      "\u001b[0;31mValueError\u001b[0m: 5 columns passed, passed data had 9 columns"
     ]
    }
   ],
   "source": [
    "freq = pd.DataFrame(results_list, columns=[\"colegio\", \"area\", \"subarea\", \"palavra_chave\", \"frequencia\"])"
   ]
  },
  {
   "cell_type": "code",
   "execution_count": null,
   "metadata": {},
   "outputs": [
    {
     "data": {
      "text/html": [
       "<div>\n",
       "<style scoped>\n",
       "    .dataframe tbody tr th:only-of-type {\n",
       "        vertical-align: middle;\n",
       "    }\n",
       "\n",
       "    .dataframe tbody tr th {\n",
       "        vertical-align: top;\n",
       "    }\n",
       "\n",
       "    .dataframe thead th {\n",
       "        text-align: right;\n",
       "    }\n",
       "</style>\n",
       "<table border=\"1\" class=\"dataframe\">\n",
       "  <thead>\n",
       "    <tr style=\"text-align: right;\">\n",
       "      <th></th>\n",
       "      <th>colegio</th>\n",
       "      <th>area</th>\n",
       "      <th>subarea</th>\n",
       "      <th>frequencia</th>\n",
       "    </tr>\n",
       "    <tr>\n",
       "      <th>palavra_chave</th>\n",
       "      <th></th>\n",
       "      <th></th>\n",
       "      <th></th>\n",
       "      <th></th>\n",
       "    </tr>\n",
       "  </thead>\n",
       "  <tbody>\n",
       "    <tr>\n",
       "      <th>qu</th>\n",
       "      <td>humanidades</td>\n",
       "      <td>linguística, letras e artes</td>\n",
       "      <td>linguística e literatura</td>\n",
       "      <td>38</td>\n",
       "    </tr>\n",
       "    <tr>\n",
       "      <th>literatura</th>\n",
       "      <td>humanidades</td>\n",
       "      <td>linguística, letras e artes</td>\n",
       "      <td>linguística e literatura</td>\n",
       "      <td>21</td>\n",
       "    </tr>\n",
       "    <tr>\n",
       "      <th>qu</th>\n",
       "      <td>ciências exatas, tecnológicas e multidisciplinar</td>\n",
       "      <td>multidisciplinar</td>\n",
       "      <td>interdisciplinar</td>\n",
       "      <td>19</td>\n",
       "    </tr>\n",
       "    <tr>\n",
       "      <th>contexto</th>\n",
       "      <td>humanidades</td>\n",
       "      <td>linguística, letras e artes</td>\n",
       "      <td>linguística e literatura</td>\n",
       "      <td>13</td>\n",
       "    </tr>\n",
       "    <tr>\n",
       "      <th>narrativa</th>\n",
       "      <td>humanidades</td>\n",
       "      <td>linguística, letras e artes</td>\n",
       "      <td>linguística e literatura</td>\n",
       "      <td>13</td>\n",
       "    </tr>\n",
       "    <tr>\n",
       "      <th>...</th>\n",
       "      <td>...</td>\n",
       "      <td>...</td>\n",
       "      <td>...</td>\n",
       "      <td>...</td>\n",
       "    </tr>\n",
       "    <tr>\n",
       "      <th>gerenciamento de redes</th>\n",
       "      <td>ciências exatas, tecnológicas e multidisciplinar</td>\n",
       "      <td>ciências exatas e da terra</td>\n",
       "      <td>ciência da computação</td>\n",
       "      <td>1</td>\n",
       "    </tr>\n",
       "    <tr>\n",
       "      <th>fígado</th>\n",
       "      <td>ciências da vida</td>\n",
       "      <td>ciências da saúde</td>\n",
       "      <td>medicina i</td>\n",
       "      <td>1</td>\n",
       "    </tr>\n",
       "    <tr>\n",
       "      <th>fragmentação</th>\n",
       "      <td>humanidades</td>\n",
       "      <td>linguística, letras e artes</td>\n",
       "      <td>linguística e literatura</td>\n",
       "      <td>1</td>\n",
       "    </tr>\n",
       "    <tr>\n",
       "      <th>folclore</th>\n",
       "      <td>humanidades</td>\n",
       "      <td>linguística, letras e artes</td>\n",
       "      <td>linguística e literatura</td>\n",
       "      <td>1</td>\n",
       "    </tr>\n",
       "    <tr>\n",
       "      <th>óleos essenciais</th>\n",
       "      <td>ciências da vida</td>\n",
       "      <td>ciências biológicas</td>\n",
       "      <td>ciências biológicas i</td>\n",
       "      <td>1</td>\n",
       "    </tr>\n",
       "  </tbody>\n",
       "</table>\n",
       "<p>455 rows × 4 columns</p>\n",
       "</div>"
      ],
      "text/plain": [
       "                                                                 colegio  \\\n",
       "palavra_chave                                                              \n",
       "qu                                                           humanidades   \n",
       "literatura                                                   humanidades   \n",
       "qu                      ciências exatas, tecnológicas e multidisciplinar   \n",
       "contexto                                                     humanidades   \n",
       "narrativa                                                    humanidades   \n",
       "...                                                                  ...   \n",
       "gerenciamento de redes  ciências exatas, tecnológicas e multidisciplinar   \n",
       "fígado                                                  ciências da vida   \n",
       "fragmentação                                                 humanidades   \n",
       "folclore                                                     humanidades   \n",
       "óleos essenciais                                        ciências da vida   \n",
       "\n",
       "                                               area                   subarea  \\\n",
       "palavra_chave                                                                   \n",
       "qu                      linguística, letras e artes  linguística e literatura   \n",
       "literatura              linguística, letras e artes  linguística e literatura   \n",
       "qu                                 multidisciplinar          interdisciplinar   \n",
       "contexto                linguística, letras e artes  linguística e literatura   \n",
       "narrativa               linguística, letras e artes  linguística e literatura   \n",
       "...                                             ...                       ...   \n",
       "gerenciamento de redes   ciências exatas e da terra     ciência da computação   \n",
       "fígado                            ciências da saúde                medicina i   \n",
       "fragmentação            linguística, letras e artes  linguística e literatura   \n",
       "folclore                linguística, letras e artes  linguística e literatura   \n",
       "óleos essenciais                ciências biológicas     ciências biológicas i   \n",
       "\n",
       "                        frequencia  \n",
       "palavra_chave                       \n",
       "qu                              38  \n",
       "literatura                      21  \n",
       "qu                              19  \n",
       "contexto                        13  \n",
       "narrativa                       13  \n",
       "...                            ...  \n",
       "gerenciamento de redes           1  \n",
       "fígado                           1  \n",
       "fragmentação                     1  \n",
       "folclore                         1  \n",
       "óleos essenciais                 1  \n",
       "\n",
       "[455 rows x 4 columns]"
      ]
     },
     "execution_count": 242,
     "metadata": {},
     "output_type": "execute_result"
    }
   ],
   "source": [
    "freq.set_index('palavra_chave').sort_index().sort_values('frequencia', ascending=False)"
   ]
  }
 ],
 "metadata": {
  "kernelspec": {
   "display_name": "Python 3 (ipykernel)",
   "language": "python",
   "name": "python3"
  },
  "language_info": {
   "codemirror_mode": {
    "name": "ipython",
    "version": 3
   },
   "file_extension": ".py",
   "mimetype": "text/x-python",
   "name": "python",
   "nbconvert_exporter": "python",
   "pygments_lexer": "ipython3",
   "version": "3.10.8"
  },
  "orig_nbformat": 4
 },
 "nbformat": 4,
 "nbformat_minor": 2
}
